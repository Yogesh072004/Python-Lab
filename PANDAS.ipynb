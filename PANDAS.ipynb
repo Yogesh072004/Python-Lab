{
 "cells": [
  {
   "cell_type": "code",
   "execution_count": 1,
   "id": "b8234ed4-8245-470e-b632-717407fe6b10",
   "metadata": {},
   "outputs": [
    {
     "name": "stdout",
     "output_type": "stream",
     "text": [
      "Defaulting to user installation because normal site-packages is not writeable\n",
      "Collecting pandas\n",
      "  Downloading pandas-2.2.3-cp312-cp312-win_amd64.whl.metadata (19 kB)\n",
      "Requirement already satisfied: numpy>=1.26.0 in c:\\users\\yp901\\appdata\\roaming\\python\\python312\\site-packages (from pandas) (2.2.0)\n",
      "Requirement already satisfied: python-dateutil>=2.8.2 in c:\\users\\yp901\\appdata\\roaming\\python\\python312\\site-packages (from pandas) (2.9.0.post0)\n",
      "Collecting pytz>=2020.1 (from pandas)\n",
      "  Downloading pytz-2024.2-py2.py3-none-any.whl.metadata (22 kB)\n",
      "Collecting tzdata>=2022.7 (from pandas)\n",
      "  Downloading tzdata-2024.2-py2.py3-none-any.whl.metadata (1.4 kB)\n",
      "Requirement already satisfied: six>=1.5 in c:\\users\\yp901\\appdata\\roaming\\python\\python312\\site-packages (from python-dateutil>=2.8.2->pandas) (1.16.0)\n",
      "Downloading pandas-2.2.3-cp312-cp312-win_amd64.whl (11.5 MB)\n",
      "   ---------------------------------------- 0.0/11.5 MB ? eta -:--:--\n",
      "    --------------------------------------- 0.3/11.5 MB ? eta -:--:--\n",
      "   -- ------------------------------------- 0.8/11.5 MB 2.0 MB/s eta 0:00:06\n",
      "   --- ------------------------------------ 1.0/11.5 MB 1.9 MB/s eta 0:00:06\n",
      "   ----- ---------------------------------- 1.6/11.5 MB 2.0 MB/s eta 0:00:05\n",
      "   ------ --------------------------------- 1.8/11.5 MB 2.0 MB/s eta 0:00:05\n",
      "   -------- ------------------------------- 2.4/11.5 MB 1.9 MB/s eta 0:00:05\n",
      "   --------- ------------------------------ 2.6/11.5 MB 1.8 MB/s eta 0:00:05\n",
      "   ---------- ----------------------------- 3.1/11.5 MB 1.9 MB/s eta 0:00:05\n",
      "   ----------- ---------------------------- 3.4/11.5 MB 1.9 MB/s eta 0:00:05\n",
      "   ------------- -------------------------- 3.9/11.5 MB 1.8 MB/s eta 0:00:05\n",
      "   -------------- ------------------------- 4.2/11.5 MB 1.8 MB/s eta 0:00:05\n",
      "   --------------- ------------------------ 4.5/11.5 MB 1.8 MB/s eta 0:00:04\n",
      "   ---------------- ----------------------- 4.7/11.5 MB 1.8 MB/s eta 0:00:04\n",
      "   ----------------- ---------------------- 5.0/11.5 MB 1.7 MB/s eta 0:00:04\n",
      "   ------------------- -------------------- 5.5/11.5 MB 1.7 MB/s eta 0:00:04\n",
      "   ------------------- -------------------- 5.5/11.5 MB 1.7 MB/s eta 0:00:04\n",
      "   -------------------- ------------------- 5.8/11.5 MB 1.6 MB/s eta 0:00:04\n",
      "   -------------------- ------------------- 5.8/11.5 MB 1.6 MB/s eta 0:00:04\n",
      "   -------------------- ------------------- 5.8/11.5 MB 1.6 MB/s eta 0:00:04\n",
      "   -------------------- ------------------- 6.0/11.5 MB 1.4 MB/s eta 0:00:04\n",
      "   --------------------- ------------------ 6.3/11.5 MB 1.4 MB/s eta 0:00:04\n",
      "   --------------------- ------------------ 6.3/11.5 MB 1.4 MB/s eta 0:00:04\n",
      "   ---------------------- ----------------- 6.6/11.5 MB 1.3 MB/s eta 0:00:04\n",
      "   ---------------------- ----------------- 6.6/11.5 MB 1.3 MB/s eta 0:00:04\n",
      "   ----------------------- ---------------- 6.8/11.5 MB 1.3 MB/s eta 0:00:04\n",
      "   ------------------------ --------------- 7.1/11.5 MB 1.2 MB/s eta 0:00:04\n",
      "   ------------------------ --------------- 7.1/11.5 MB 1.2 MB/s eta 0:00:04\n",
      "   ------------------------- -------------- 7.3/11.5 MB 1.2 MB/s eta 0:00:04\n",
      "   ------------------------- -------------- 7.3/11.5 MB 1.2 MB/s eta 0:00:04\n",
      "   ------------------------- -------------- 7.3/11.5 MB 1.2 MB/s eta 0:00:04\n",
      "   ------------------------- -------------- 7.3/11.5 MB 1.2 MB/s eta 0:00:04\n",
      "   ------------------------- -------------- 7.3/11.5 MB 1.2 MB/s eta 0:00:04\n",
      "   -------------------------- ------------- 7.6/11.5 MB 1.1 MB/s eta 0:00:04\n",
      "   -------------------------- ------------- 7.6/11.5 MB 1.1 MB/s eta 0:00:04\n",
      "   --------------------------- ------------ 7.9/11.5 MB 1.0 MB/s eta 0:00:04\n",
      "   --------------------------- ------------ 7.9/11.5 MB 1.0 MB/s eta 0:00:04\n",
      "   --------------------------- ------------ 7.9/11.5 MB 1.0 MB/s eta 0:00:04\n",
      "   ---------------------------- ----------- 8.1/11.5 MB 985.0 kB/s eta 0:00:04\n",
      "   ----------------------------- ---------- 8.4/11.5 MB 974.0 kB/s eta 0:00:04\n",
      "   ----------------------------- ---------- 8.4/11.5 MB 974.0 kB/s eta 0:00:04\n",
      "   ------------------------------ --------- 8.7/11.5 MB 957.1 kB/s eta 0:00:03\n",
      "   ------------------------------ --------- 8.7/11.5 MB 957.1 kB/s eta 0:00:03\n",
      "   ------------------------------ --------- 8.9/11.5 MB 951.4 kB/s eta 0:00:03\n",
      "   -------------------------------- ------- 9.4/11.5 MB 975.4 kB/s eta 0:00:03\n",
      "   --------------------------------- ------ 9.7/11.5 MB 975.8 kB/s eta 0:00:02\n",
      "   --------------------------------- ------ 9.7/11.5 MB 975.8 kB/s eta 0:00:02\n",
      "   ----------------------------------- ---- 10.2/11.5 MB 990.0 kB/s eta 0:00:02\n",
      "   ------------------------------------- -- 10.7/11.5 MB 1.0 MB/s eta 0:00:01\n",
      "   ------------------------------------- -- 10.7/11.5 MB 1.0 MB/s eta 0:00:01\n",
      "   -------------------------------------- - 11.0/11.5 MB 1.0 MB/s eta 0:00:01\n",
      "   -------------------------------------- - 11.0/11.5 MB 1.0 MB/s eta 0:00:01\n",
      "   ---------------------------------------  11.3/11.5 MB 989.7 kB/s eta 0:00:01\n",
      "   ---------------------------------------  11.3/11.5 MB 989.7 kB/s eta 0:00:01\n",
      "   ---------------------------------------  11.3/11.5 MB 989.7 kB/s eta 0:00:01\n",
      "   ---------------------------------------  11.3/11.5 MB 989.7 kB/s eta 0:00:01\n",
      "   ---------------------------------------- 11.5/11.5 MB 926.0 kB/s eta 0:00:00\n",
      "Downloading pytz-2024.2-py2.py3-none-any.whl (508 kB)\n",
      "Downloading tzdata-2024.2-py2.py3-none-any.whl (346 kB)\n",
      "Installing collected packages: pytz, tzdata, pandas\n",
      "Successfully installed pandas-2.2.3 pytz-2024.2 tzdata-2024.2\n"
     ]
    }
   ],
   "source": [
    "!pip install pandas"
   ]
  },
  {
   "cell_type": "code",
   "execution_count": 3,
   "id": "96cc8fca-ef7a-4a93-960d-1bcd9a476927",
   "metadata": {},
   "outputs": [
    {
     "name": "stdout",
     "output_type": "stream",
     "text": [
      "<class 'pandas.core.series.Series'>\n",
      "0    1\n",
      "1    2\n",
      "2    3\n",
      "3    4\n",
      "4    5\n",
      "dtype: int64\n"
     ]
    }
   ],
   "source": [
    "import pandas as pd\n",
    "ss=pd.Series([1,2,3,4,5])\n",
    "print(type(ss))\n",
    "print(ss)"
   ]
  },
  {
   "cell_type": "code",
   "execution_count": 4,
   "id": "5fae11d4-dedc-4a47-87bf-7a4c1a2eca9d",
   "metadata": {},
   "outputs": [
    {
     "name": "stdout",
     "output_type": "stream",
     "text": [
      "11    1\n",
      "12    2\n",
      "13    3\n",
      "14    4\n",
      "15    5\n",
      "dtype: int64\n"
     ]
    }
   ],
   "source": [
    "ss=pd.Series([1,2,3,4,5],index=[11,12,13,14,15])\n",
    "print(ss)"
   ]
  },
  {
   "cell_type": "code",
   "execution_count": 5,
   "id": "e741b822-ab47-415b-ac7f-8e0d4f125a62",
   "metadata": {},
   "outputs": [
    {
     "name": "stdout",
     "output_type": "stream",
     "text": [
      "12    2\n",
      "13    3\n",
      "dtype: int64\n",
      "11    3\n",
      "12    4\n",
      "13    5\n",
      "14    6\n",
      "15    7\n",
      "dtype: int64\n",
      "11     3\n",
      "12     6\n",
      "13     9\n",
      "14    12\n",
      "15    15\n",
      "dtype: int64\n"
     ]
    }
   ],
   "source": [
    "print(ss[1:3])\n",
    "print(ss+2)\n",
    "print(ss*3)"
   ]
  },
  {
   "cell_type": "code",
   "execution_count": 6,
   "id": "468560a2-ea1c-4a01-8f50-5ad3d69510e1",
   "metadata": {},
   "outputs": [
    {
     "data": {
      "text/plain": [
       "11    1\n",
       "12    2\n",
       "13    3\n",
       "14    4\n",
       "dtype: int64"
      ]
     },
     "execution_count": 6,
     "metadata": {},
     "output_type": "execute_result"
    }
   ],
   "source": [
    "ss.loc[11:14]"
   ]
  },
  {
   "cell_type": "code",
   "execution_count": 7,
   "id": "75954b40-6a60-4e51-b26d-23d951389d59",
   "metadata": {},
   "outputs": [
    {
     "name": "stdout",
     "output_type": "stream",
     "text": [
      "   apples  oranges\n",
      "0       3        0\n",
      "1       2        3\n",
      "2       4        7\n",
      "3       2        2\n"
     ]
    }
   ],
   "source": [
    "data={\n",
    "    'apples':[3,2,4,2],\n",
    "    'oranges':[0,3,7,2]\n",
    "}\n",
    "purchase=pd.DataFrame(data)\n",
    "print(purchase)"
   ]
  },
  {
   "cell_type": "code",
   "execution_count": 8,
   "id": "ecba51bb-8446-4b6b-a0d3-65ecc460da4b",
   "metadata": {},
   "outputs": [
    {
     "name": "stdout",
     "output_type": "stream",
     "text": [
      "            apples  oranges\n",
      "mick             3        0\n",
      "robert           2        3\n",
      "amit             4        7\n",
      "allu arjun       2        2\n",
      "-------------------- customer order --------------------\n",
      "apples     2\n",
      "oranges    3\n",
      "Name: robert, dtype: int64\n"
     ]
    }
   ],
   "source": [
    "purchase=pd.DataFrame(data,index=['mick','robert','amit','allu arjun'])\n",
    "print(purchase)\n",
    "print(20*'-','customer order',20*'-')\n",
    "\n",
    "print(purchase.loc['robert'])"
   ]
  },
  {
   "cell_type": "code",
   "execution_count": 9,
   "id": "7dc5640f-d670-43d8-8ff7-e8812183d4e1",
   "metadata": {},
   "outputs": [
    {
     "data": {
      "text/plain": [
       "True"
      ]
     },
     "execution_count": 9,
     "metadata": {},
     "output_type": "execute_result"
    }
   ],
   "source": [
    "from pathlib import Path\n",
    "fp=Path('tempdata.csv')\n",
    "fp.touch()\n",
    "fp.exists()"
   ]
  },
  {
   "cell_type": "code",
   "execution_count": 11,
   "id": "eb23c46a-596b-4b57-86ba-f4aee88d79dc",
   "metadata": {},
   "outputs": [
    {
     "name": "stdout",
     "output_type": "stream",
     "text": [
      "  city  temp\n",
      "0  DWD    49\n",
      "1  LXR    50\n"
     ]
    }
   ],
   "source": [
    "df=pd.read_csv('tempdata.csv')\n",
    "print(df)"
   ]
  },
  {
   "cell_type": "code",
   "execution_count": 13,
   "id": "af12a0a5-582b-4494-bb1b-d6d1fc4ab7b4",
   "metadata": {},
   "outputs": [
    {
     "name": "stdout",
     "output_type": "stream",
     "text": [
      "      temp\n",
      "city      \n",
      "DWD     49\n",
      "LXR     50\n"
     ]
    }
   ],
   "source": [
    "df=pd.read_csv('tempdata.csv',index_col=0)\n",
    "print(df)"
   ]
  },
  {
   "cell_type": "code",
   "execution_count": 14,
   "id": "3b4384c3-5122-4f8f-9f7c-8ab6178c4c90",
   "metadata": {},
   "outputs": [
    {
     "name": "stdout",
     "output_type": "stream",
     "text": [
      "     city\n",
      "temp     \n",
      "49    DWD\n",
      "50    LXR\n"
     ]
    }
   ],
   "source": [
    "df=pd.read_csv('tempdata.csv',index_col=1)\n",
    "print(df)"
   ]
  },
  {
   "cell_type": "code",
   "execution_count": 15,
   "id": "288fb9df-5fc8-4344-b2cf-9bc3c76c53d4",
   "metadata": {},
   "outputs": [
    {
     "data": {
      "text/plain": [
       "True"
      ]
     },
     "execution_count": 15,
     "metadata": {},
     "output_type": "execute_result"
    }
   ],
   "source": [
    "fp=Path('petrol_consumption.csv')\n",
    "fp.touch()\n",
    "fp.exists()"
   ]
  },
  {
   "cell_type": "code",
   "execution_count": 17,
   "id": "81fadc49-a437-462d-9d04-cce584d8fae7",
   "metadata": {},
   "outputs": [
    {
     "name": "stdout",
     "output_type": "stream",
     "text": [
      "    Petrol_tax  Average_income  Paved_Highways  Population_Driver_licence(%)  \\\n",
      "0         9.00            3571            1976                         0.525   \n",
      "1         9.00            4092            1250                         0.572   \n",
      "2         9.00            3865            1586                         0.580   \n",
      "3         7.50            4870            2351                         0.529   \n",
      "4         8.00            4399             431                         0.544   \n",
      "5        10.00            5342            1333                         0.571   \n",
      "6         8.00            5319           11868                         0.451   \n",
      "7         8.00            5126            2138                         0.553   \n",
      "8         8.00            4447            8577                         0.529   \n",
      "9         7.00            4512            8507                         0.552   \n",
      "10        8.00            4391            5939                         0.530   \n",
      "11        7.50            5126           14186                         0.525   \n",
      "12        7.00            4817            6930                         0.574   \n",
      "13        7.00            4207            6580                         0.545   \n",
      "14        7.00            4332            8159                         0.608   \n",
      "15        7.00            4318           10340                         0.586   \n",
      "16        7.00            4206            8508                         0.572   \n",
      "17        7.00            3718            4725                         0.540   \n",
      "18        7.00            4716            5915                         0.724   \n",
      "19        8.50            4341            6010                         0.677   \n",
      "20        7.00            4593            7834                         0.663   \n",
      "21        8.00            4983             602                         0.602   \n",
      "22        9.00            4897            2449                         0.511   \n",
      "23        9.00            4258            4686                         0.517   \n",
      "24        8.50            4574            2619                         0.551   \n",
      "25        9.00            3721            4746                         0.544   \n",
      "26        8.00            3448            5399                         0.548   \n",
      "27        7.50            3846            9061                         0.579   \n",
      "28        8.00            4188            5975                         0.563   \n",
      "29        9.00            3601            4650                         0.493   \n",
      "30        7.00            3640            6905                         0.518   \n",
      "31        7.00            3333            6594                         0.513   \n",
      "32        8.00            3063            6524                         0.578   \n",
      "33        7.50            3357            4121                         0.547   \n",
      "34        8.00            3528            3495                         0.487   \n",
      "35        6.58            3802            7834                         0.629   \n",
      "36        5.00            4045           17782                         0.566   \n",
      "37        7.00            3897            6385                         0.586   \n",
      "38        8.50            3635            3274                         0.663   \n",
      "39        7.00            4345            3905                         0.672   \n",
      "40        7.00            4449            4639                         0.626   \n",
      "41        7.00            3656            3985                         0.563   \n",
      "42        7.00            4300            3635                         0.603   \n",
      "43        7.00            3745            2611                         0.508   \n",
      "44        6.00            5215            2302                         0.672   \n",
      "45        9.00            4476            3942                         0.571   \n",
      "46        7.00            4296            4083                         0.623   \n",
      "47        7.00            5002            9794                         0.593   \n",
      "\n",
      "    Petrol_Consumption  \n",
      "0                  541  \n",
      "1                  524  \n",
      "2                  561  \n",
      "3                  414  \n",
      "4                  410  \n",
      "5                  457  \n",
      "6                  344  \n",
      "7                  467  \n",
      "8                  464  \n",
      "9                  498  \n",
      "10                 580  \n",
      "11                 471  \n",
      "12                 525  \n",
      "13                 508  \n",
      "14                 566  \n",
      "15                 635  \n",
      "16                 603  \n",
      "17                 714  \n",
      "18                 865  \n",
      "19                 640  \n",
      "20                 649  \n",
      "21                 540  \n",
      "22                 464  \n",
      "23                 547  \n",
      "24                 460  \n",
      "25                 566  \n",
      "26                 577  \n",
      "27                 631  \n",
      "28                 574  \n",
      "29                 534  \n",
      "30                 571  \n",
      "31                 554  \n",
      "32                 577  \n",
      "33                 628  \n",
      "34                 487  \n",
      "35                 644  \n",
      "36                 640  \n",
      "37                 704  \n",
      "38                 648  \n",
      "39                 968  \n",
      "40                 587  \n",
      "41                 699  \n",
      "42                 632  \n",
      "43                 591  \n",
      "44                 782  \n",
      "45                 510  \n",
      "46                 610  \n",
      "47                 524  \n"
     ]
    },
    {
     "data": {
      "text/plain": [
       "(48, 5)"
      ]
     },
     "execution_count": 17,
     "metadata": {},
     "output_type": "execute_result"
    }
   ],
   "source": [
    "f=pd.read_csv('petrol_consumption.csv')\n",
    "print(f)\n",
    "f.shape"
   ]
  },
  {
   "cell_type": "code",
   "execution_count": 19,
   "id": "0d318207-f040-4537-8ff3-6fe449a41322",
   "metadata": {},
   "outputs": [
    {
     "name": "stdout",
     "output_type": "stream",
     "text": [
      "   Petrol_tax  Average_income  Paved_Highways  Population_Driver_licence(%)  \\\n",
      "0         9.0            3571            1976                         0.525   \n",
      "1         9.0            4092            1250                         0.572   \n",
      "2         9.0            3865            1586                         0.580   \n",
      "3         7.5            4870            2351                         0.529   \n",
      "4         8.0            4399             431                         0.544   \n",
      "\n",
      "   Petrol_Consumption  \n",
      "0                 541  \n",
      "1                 524  \n",
      "2                 561  \n",
      "3                 414  \n",
      "4                 410  \n",
      "---------------------------------------------\n",
      "   Petrol_tax  Average_income  Paved_Highways  Population_Driver_licence(%)  \\\n",
      "0         9.0            3571            1976                         0.525   \n",
      "1         9.0            4092            1250                         0.572   \n",
      "2         9.0            3865            1586                         0.580   \n",
      "\n",
      "   Petrol_Consumption  \n",
      "0                 541  \n",
      "1                 524  \n",
      "2                 561  \n"
     ]
    }
   ],
   "source": [
    "print(f.head())\n",
    "print(45*'-')\n",
    "print(f.head(3))"
   ]
  },
  {
   "cell_type": "code",
   "execution_count": 20,
   "id": "1c69cf43-816a-47b9-ad0e-8ad3e0d0e008",
   "metadata": {},
   "outputs": [
    {
     "data": {
      "text/html": [
       "<div>\n",
       "<style scoped>\n",
       "    .dataframe tbody tr th:only-of-type {\n",
       "        vertical-align: middle;\n",
       "    }\n",
       "\n",
       "    .dataframe tbody tr th {\n",
       "        vertical-align: top;\n",
       "    }\n",
       "\n",
       "    .dataframe thead th {\n",
       "        text-align: right;\n",
       "    }\n",
       "</style>\n",
       "<table border=\"1\" class=\"dataframe\">\n",
       "  <thead>\n",
       "    <tr style=\"text-align: right;\">\n",
       "      <th></th>\n",
       "      <th>Petrol_tax</th>\n",
       "      <th>Average_income</th>\n",
       "      <th>Paved_Highways</th>\n",
       "      <th>Population_Driver_licence(%)</th>\n",
       "      <th>Petrol_Consumption</th>\n",
       "    </tr>\n",
       "  </thead>\n",
       "  <tbody>\n",
       "    <tr>\n",
       "      <th>43</th>\n",
       "      <td>7.0</td>\n",
       "      <td>3745</td>\n",
       "      <td>2611</td>\n",
       "      <td>0.508</td>\n",
       "      <td>591</td>\n",
       "    </tr>\n",
       "    <tr>\n",
       "      <th>44</th>\n",
       "      <td>6.0</td>\n",
       "      <td>5215</td>\n",
       "      <td>2302</td>\n",
       "      <td>0.672</td>\n",
       "      <td>782</td>\n",
       "    </tr>\n",
       "    <tr>\n",
       "      <th>45</th>\n",
       "      <td>9.0</td>\n",
       "      <td>4476</td>\n",
       "      <td>3942</td>\n",
       "      <td>0.571</td>\n",
       "      <td>510</td>\n",
       "    </tr>\n",
       "    <tr>\n",
       "      <th>46</th>\n",
       "      <td>7.0</td>\n",
       "      <td>4296</td>\n",
       "      <td>4083</td>\n",
       "      <td>0.623</td>\n",
       "      <td>610</td>\n",
       "    </tr>\n",
       "    <tr>\n",
       "      <th>47</th>\n",
       "      <td>7.0</td>\n",
       "      <td>5002</td>\n",
       "      <td>9794</td>\n",
       "      <td>0.593</td>\n",
       "      <td>524</td>\n",
       "    </tr>\n",
       "  </tbody>\n",
       "</table>\n",
       "</div>"
      ],
      "text/plain": [
       "    Petrol_tax  Average_income  Paved_Highways  Population_Driver_licence(%)  \\\n",
       "43         7.0            3745            2611                         0.508   \n",
       "44         6.0            5215            2302                         0.672   \n",
       "45         9.0            4476            3942                         0.571   \n",
       "46         7.0            4296            4083                         0.623   \n",
       "47         7.0            5002            9794                         0.593   \n",
       "\n",
       "    Petrol_Consumption  \n",
       "43                 591  \n",
       "44                 782  \n",
       "45                 510  \n",
       "46                 610  \n",
       "47                 524  "
      ]
     },
     "execution_count": 20,
     "metadata": {},
     "output_type": "execute_result"
    }
   ],
   "source": [
    "f.tail()"
   ]
  },
  {
   "cell_type": "code",
   "execution_count": 21,
   "id": "9897450e-aa04-47eb-b964-95f2d62fffe9",
   "metadata": {},
   "outputs": [
    {
     "name": "stdout",
     "output_type": "stream",
     "text": [
      "<class 'pandas.core.frame.DataFrame'>\n",
      "RangeIndex: 48 entries, 0 to 47\n",
      "Data columns (total 5 columns):\n",
      " #   Column                        Non-Null Count  Dtype  \n",
      "---  ------                        --------------  -----  \n",
      " 0   Petrol_tax                    48 non-null     float64\n",
      " 1   Average_income                48 non-null     int64  \n",
      " 2   Paved_Highways                48 non-null     int64  \n",
      " 3   Population_Driver_licence(%)  48 non-null     float64\n",
      " 4   Petrol_Consumption            48 non-null     int64  \n",
      "dtypes: float64(2), int64(3)\n",
      "memory usage: 2.0 KB\n"
     ]
    }
   ],
   "source": [
    "f.info()"
   ]
  },
  {
   "cell_type": "code",
   "execution_count": 23,
   "id": "126abfce-54a2-431c-9226-40eb63919bc8",
   "metadata": {},
   "outputs": [
    {
     "data": {
      "text/plain": [
       "(48, 5)"
      ]
     },
     "execution_count": 23,
     "metadata": {},
     "output_type": "execute_result"
    }
   ],
   "source": [
    "f.shape"
   ]
  },
  {
   "cell_type": "code",
   "execution_count": 24,
   "id": "855346c3-f37d-498e-a49c-8cb19b28deb2",
   "metadata": {},
   "outputs": [
    {
     "name": "stdout",
     "output_type": "stream",
     "text": [
      "    name  age  salary\n",
      "0  vinay   25     500\n",
      "1  vivek   28     600\n",
      "2  vinay   25     500\n",
      "3  vinod   30     700\n",
      "4  vinay   25     500\n",
      "0  vinay   25     500\n",
      "1  vivek   28     600\n",
      "2  vinay   25     500\n",
      "3  vinod   30     700\n",
      "4  vinay   25     500 \n",
      "\n",
      "Duplicate Elements\n",
      "    name  age  salary\n",
      "0  vinay   25     500\n",
      "1  vivek   28     600\n",
      "3  vinod   30     700\n"
     ]
    },
    {
     "data": {
      "text/plain": [
       "0    False\n",
       "1    False\n",
       "2     True\n",
       "3    False\n",
       "4     True\n",
       "0     True\n",
       "1     True\n",
       "2     True\n",
       "3     True\n",
       "4     True\n",
       "dtype: bool"
      ]
     },
     "execution_count": 24,
     "metadata": {},
     "output_type": "execute_result"
    }
   ],
   "source": [
    "Empd=pd.DataFrame({\n",
    "    'name':['vinay','vivek','vinay','vinod','vinay'],\n",
    "    'age':[25,28,25,30,25],\n",
    "    'salary':[500,600,500,700,500]\n",
    "})\n",
    "Empd=pd.concat([Empd,Empd])\n",
    "print(Empd,\"\\n\")\n",
    "print(\"Duplicate Elements\")\n",
    "\n",
    "print(Empd.drop_duplicates(inplace=False))\n",
    "Empd.duplicated()"
   ]
  },
  {
   "cell_type": "code",
   "execution_count": 25,
   "id": "7ca1d8b7-e55d-4420-8dcd-6c4854be57a8",
   "metadata": {},
   "outputs": [
    {
     "name": "stdout",
     "output_type": "stream",
     "text": [
      "0    False\n",
      "1    False\n",
      "2     True\n",
      "3    False\n",
      "4     True\n",
      "0     True\n",
      "1     True\n",
      "2     True\n",
      "3     True\n",
      "4     True\n",
      "dtype: bool\n",
      "*********************************************************************\n"
     ]
    },
    {
     "data": {
      "text/plain": [
       "0    False\n",
       "1    False\n",
       "2     True\n",
       "3    False\n",
       "4     True\n",
       "0     True\n",
       "1     True\n",
       "2     True\n",
       "3     True\n",
       "4     True\n",
       "dtype: bool"
      ]
     },
     "execution_count": 25,
     "metadata": {},
     "output_type": "execute_result"
    }
   ],
   "source": [
    "print(Empd.duplicated(subset=['salary']))\n",
    "print(\"*********************************************************************\")\n",
    "Empd.duplicated(subset=['age'])\n"
   ]
  },
  {
   "cell_type": "code",
   "execution_count": 26,
   "id": "1084e90c-16de-4bbe-af7d-ffde96d944eb",
   "metadata": {},
   "outputs": [
    {
     "name": "stdout",
     "output_type": "stream",
     "text": [
      "    name  age  salary\n",
      "0  vinay   25     500\n",
      "1  vivek   28     600\n",
      "2  vinay   25     500\n",
      "3  vinod   30     700\n",
      "4  vinay   25     500\n",
      "0  vinay   25     500\n",
      "1  vivek   28     600\n",
      "2  vinay   25     500\n",
      "3  vinod   30     700\n",
      "4  vinay   25     500\n",
      "keeping required duplicates element \n",
      "\n",
      "after manipulation\n",
      "0    False\n",
      "1    False\n",
      "2     True\n",
      "3    False\n",
      "4     True\n",
      "0     True\n",
      "1     True\n",
      "2     True\n",
      "3     True\n",
      "4     True\n",
      "dtype: bool\n",
      "0     True\n",
      "1     True\n",
      "2     True\n",
      "3     True\n",
      "4     True\n",
      "0     True\n",
      "1    False\n",
      "2     True\n",
      "3    False\n",
      "4    False\n",
      "dtype: bool\n"
     ]
    }
   ],
   "source": [
    "print(Empd)\n",
    "print('keeping required duplicates element \\n')\n",
    "firstrow=Empd.duplicated(keep='first')\n",
    "lastrow=Empd.duplicated(keep='last')\n",
    "print('after manipulation')\n",
    "print(firstrow)\n",
    "print(lastrow)"
   ]
  },
  {
   "cell_type": "code",
   "execution_count": null,
   "id": "91fe4c82-e5af-42c6-9a16-e5a728b46cbf",
   "metadata": {},
   "outputs": [],
   "source": []
  }
 ],
 "metadata": {
  "kernelspec": {
   "display_name": "Python 3 (ipykernel)",
   "language": "python",
   "name": "python3"
  },
  "language_info": {
   "codemirror_mode": {
    "name": "ipython",
    "version": 3
   },
   "file_extension": ".py",
   "mimetype": "text/x-python",
   "name": "python",
   "nbconvert_exporter": "python",
   "pygments_lexer": "ipython3",
   "version": "3.12.6"
  }
 },
 "nbformat": 4,
 "nbformat_minor": 5
}
