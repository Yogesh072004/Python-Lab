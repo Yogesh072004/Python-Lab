{
 "cells": [
  {
   "cell_type": "code",
   "execution_count": 7,
   "id": "100be2ca-6ebc-4f09-8e22-9b6cc1a1018a",
   "metadata": {},
   "outputs": [
    {
     "name": "stdout",
     "output_type": "stream",
     "text": [
      "C:\\Users\\yp901\n",
      "<WindowsPath.parents>\n",
      "C:\\Users\n",
      "C:\\\n",
      "C:\\Users\\yp901\\Desktop\\NUMPY,PANDAS AND MATPLOTLIB\n"
     ]
    }
   ],
   "source": [
    "from pathlib import Path\n",
    "print(Path.home())\n",
    "print(Path.home().parents)\n",
    "for p in Path.home().parents:\n",
    "    print(p)\n",
    "print(Path.cwd())    "
   ]
  },
  {
   "cell_type": "code",
   "execution_count": 8,
   "id": "45242e28-0e34-469d-b975-6a662d4e58a6",
   "metadata": {},
   "outputs": [],
   "source": [
    "mdr=Path(\"folder/rack\")\n",
    "mdr.mkdir(parents=True,exist_ok=False)"
   ]
  },
  {
   "cell_type": "code",
   "execution_count": 9,
   "id": "8def64ea-d19a-4ee5-ae60-5fa84d526085",
   "metadata": {},
   "outputs": [
    {
     "data": {
      "text/plain": [
       "5"
      ]
     },
     "execution_count": 9,
     "metadata": {},
     "output_type": "execute_result"
    }
   ],
   "source": [
    "fp=mdr/ \"abc.txt\"\n",
    "fp.write_text(\"hello\")"
   ]
  },
  {
   "cell_type": "code",
   "execution_count": 10,
   "id": "98932289-08e7-4932-9a43-413a3c648590",
   "metadata": {},
   "outputs": [
    {
     "name": "stdout",
     "output_type": "stream",
     "text": [
      "True\n"
     ]
    }
   ],
   "source": [
    "print(mdr.exists())"
   ]
  },
  {
   "cell_type": "code",
   "execution_count": 13,
   "id": "69f2e1fc-bab2-4db1-9b33-fb7c1463e994",
   "metadata": {},
   "outputs": [
    {
     "name": "stdout",
     "output_type": "stream",
     "text": [
      "True\n",
      "False\n"
     ]
    }
   ],
   "source": [
    "print(mdr.is_dir())\n",
    "print(Path(\"hello.txt\").is_dir())"
   ]
  },
  {
   "cell_type": "code",
   "execution_count": 14,
   "id": "30b54466-71d1-4807-b6ac-a9a6e30fe074",
   "metadata": {},
   "outputs": [
    {
     "data": {
      "text/plain": [
       "True"
      ]
     },
     "execution_count": 14,
     "metadata": {},
     "output_type": "execute_result"
    }
   ],
   "source": [
    "ffp=Path(\"hi.txt\")\n",
    "ffp.touch()\n",
    "ffp.exists()"
   ]
  },
  {
   "cell_type": "code",
   "execution_count": 15,
   "id": "5b62915a-d355-40cb-bab6-834af4e8dd1b",
   "metadata": {},
   "outputs": [
    {
     "name": "stdout",
     "output_type": "stream",
     "text": [
      "folder\\rack\n"
     ]
    }
   ],
   "source": [
    "fp=Path(\"folder\")\n",
    "for i in fp.iterdir():\n",
    "    print(i)"
   ]
  },
  {
   "cell_type": "code",
   "execution_count": 17,
   "id": "34df914c-7339-4994-80cd-3ee84e412e59",
   "metadata": {},
   "outputs": [
    {
     "name": "stdout",
     "output_type": "stream",
     "text": [
      "hobbies:eating,bathing two days once, sorry 3 days onceyen madakanitr pa nale exam aiti ansat ala\n",
      " reels nodri hogri yen odtiri sumn"
     ]
    }
   ],
   "source": [
    "with open(\"hello.txt\",\"r\") as file:\n",
    "    for line in file:\n",
    "        print(line,end='')"
   ]
  },
  {
   "cell_type": "code",
   "execution_count": 18,
   "id": "45352c94-21f3-457b-b6a3-95f21143dab0",
   "metadata": {},
   "outputs": [
    {
     "name": "stdout",
     "output_type": "stream",
     "text": [
      "written successfully\n"
     ]
    }
   ],
   "source": [
    "with open(\"hello.txt\",\"w\") as file:\n",
    "    file.write(\"A B C D E F G H I J K L M\")\n",
    "if not file:\n",
    "    print(\"not written\")\n",
    "else:\n",
    "    print(\"written successfully\")\n",
    "    "
   ]
  },
  {
   "cell_type": "code",
   "execution_count": 19,
   "id": "aff0e816-d29b-48ed-8da4-625bbe38967a",
   "metadata": {},
   "outputs": [
    {
     "name": "stdout",
     "output_type": "stream",
     "text": [
      "written successfully\n"
     ]
    }
   ],
   "source": [
    "statements=[\"cse\\n\",\"eee\\n\"]\n",
    "with open (\"hello.txt\",\"a\") as file:\n",
    "    file.writelines(statements)\n",
    "if not file:\n",
    "    print(\"not written\")\n",
    "else:\n",
    "    print(\"written successfully\")\n",
    "        "
   ]
  },
  {
   "cell_type": "code",
   "execution_count": 20,
   "id": "3f82c30a-4347-4a7f-8b6b-70e8ce3f2502",
   "metadata": {},
   "outputs": [
    {
     "name": "stdout",
     "output_type": "stream",
     "text": [
      "written successfully\n"
     ]
    }
   ],
   "source": [
    "with open(\"n1.txt\",\"w\") as file:\n",
    "    file.writelines(\"5828\\n87185\")\n",
    "if not file:\n",
    "    print(\"not written\")\n",
    "else:\n",
    "    print(\"written successfully\")\n",
    "        "
   ]
  },
  {
   "cell_type": "code",
   "execution_count": 23,
   "id": "4cfab68f-6680-4888-87d5-9f67025331e5",
   "metadata": {},
   "outputs": [
    {
     "name": "stdout",
     "output_type": "stream",
     "text": [
      "5828\n",
      "87185\n",
      "Total: 93013\n"
     ]
    }
   ],
   "source": [
    "with open(\"n1.txt\",\"r\") as file:\n",
    "    total=0;\n",
    "    for line in file:\n",
    "        number=int(line.strip())\n",
    "        print(number)\n",
    "        total+=number\n",
    "print(\"Total:\",total)        "
   ]
  },
  {
   "cell_type": "code",
   "execution_count": 29,
   "id": "e6d2ccfd-5c7d-4cd0-a477-7cdafe74458e",
   "metadata": {},
   "outputs": [
    {
     "name": "stdout",
     "output_type": "stream",
     "text": [
      "written successfully\n"
     ]
    }
   ],
   "source": [
    "with open(\"n2.txt\",\"w\") as file:\n",
    "    file.writelines(\"10\")\n",
    "if not file:\n",
    "    print(\"not written\")\n",
    "else:\n",
    "    print(\"written successfully\")\n",
    "            \n"
   ]
  },
  {
   "cell_type": "code",
   "execution_count": 33,
   "id": "754561c2-7ddb-4be9-b308-b624a0833cf9",
   "metadata": {},
   "outputs": [
    {
     "name": "stdout",
     "output_type": "stream",
     "text": [
      "10\n",
      "55.0\n"
     ]
    }
   ],
   "source": [
    "with open(\"n2.txt\",\"r\") as file:\n",
    "    n=0\n",
    "    for p in file:\n",
    "        n=int(p.strip())\n",
    "sum=n*(n+1)/2  \n",
    "print(n)\n",
    "print(sum)"
   ]
  },
  {
   "cell_type": "code",
   "execution_count": 35,
   "id": "5c7d17d8-c8f7-4937-9543-830031d17544",
   "metadata": {},
   "outputs": [
    {
     "name": "stdout",
     "output_type": "stream",
     "text": [
      "SDM123\n",
      "\n",
      "SDM748\n",
      "\n",
      "SDM\n",
      "\n"
     ]
    }
   ],
   "source": [
    "import fnmatch\n",
    "with open(\"search.txt\",\"r\") as file:\n",
    "    for p in file:\n",
    "        if fnmatch.fnmatch(p.strip(),'SDM*'):\n",
    "            print(p)\n",
    "        "
   ]
  },
  {
   "cell_type": "code",
   "execution_count": 38,
   "id": "a3bee3df-c174-4cf0-85c2-f8de2bf7f6d8",
   "metadata": {},
   "outputs": [
    {
     "name": "stdout",
     "output_type": "stream",
     "text": [
      "written successfully\n"
     ]
    }
   ],
   "source": [
    "import csv\n",
    "with open(\"demo.csv\",\"w\") as file:\n",
    "    writer=csv.writer(file)\n",
    "    writer.writerows(statements)\n",
    "if not file:\n",
    "    print(\"not written\")\n",
    "else:\n",
    "    print(\"written successfully\")\n",
    "            \n",
    "    \n",
    "    "
   ]
  },
  {
   "cell_type": "code",
   "execution_count": 45,
   "id": "c09b1071-764a-4686-8751-ef1c95ac524f",
   "metadata": {},
   "outputs": [
    {
     "name": "stdout",
     "output_type": "stream",
     "text": [
      "['c', 's', 'e', '\\n']\n",
      "['e', 'e', 'e', '\\n']\n"
     ]
    }
   ],
   "source": [
    "with open(\"demo.csv\",\"r\",encoding=\"utf-8\")as file:\n",
    "    reader=csv.reader(file)\n",
    "    for row in reader:\n",
    "        if row:\n",
    "            print(row)\n",
    "        "
   ]
  },
  {
   "cell_type": "code",
   "execution_count": 48,
   "id": "d3a4aeb7-e42a-4d3e-b500-22161b496a00",
   "metadata": {},
   "outputs": [],
   "source": [
    "city_temp={\n",
    "    \"lxr\":30,\n",
    "    \"dwd\":40,\n",
    "    \"gul\":48\n",
    "}\n",
    "with open(\"temperature.csv\",\"w\",newline='')as file:\n",
    "    fieldnames=[\"City\",\"Temp\"]\n",
    "    writer=csv.DictWriter(file,fieldnames=fieldnames,delimiter=':')\n",
    "    writer.writeheader()\n",
    "    for city,temp in city_temp.items():\n",
    "        writer.writerow({\"City\":city,\"Temp\":temp})\n",
    "        \n",
    "        \n",
    "        "
   ]
  },
  {
   "cell_type": "code",
   "execution_count": 49,
   "id": "e045ddc7-e442-44cb-8ffc-85e3b5d04caf",
   "metadata": {},
   "outputs": [
    {
     "name": "stdout",
     "output_type": "stream",
     "text": [
      "['City:Temp']\n",
      "['lxr:30']\n",
      "['dwd:40']\n",
      "['gul:48']\n"
     ]
    }
   ],
   "source": [
    "with open(\"temperature.csv\",\"r\",encoding=\"utf-8\") as file:\n",
    "    reader=csv.reader(file,delimiter=',')\n",
    "    for i in reader:\n",
    "        print(i)\n",
    "    "
   ]
  },
  {
   "cell_type": "code",
   "execution_count": 50,
   "id": "21b7e0c8-dc4e-4ea8-82e9-059521402bfa",
   "metadata": {},
   "outputs": [
    {
     "data": {
      "text/plain": [
       "array([[ 1,  2,  3,  4,  5],\n",
       "       [ 6,  7,  8,  9, 10]])"
      ]
     },
     "execution_count": 50,
     "metadata": {},
     "output_type": "execute_result"
    }
   ],
   "source": [
    "import numpy as np\n",
    "np.arange(1,11,1).reshape(2,5)"
   ]
  },
  {
   "cell_type": "code",
   "execution_count": 57,
   "id": "6f3303b8-f5e9-4f66-afea-8a88500dba99",
   "metadata": {},
   "outputs": [
    {
     "name": "stdout",
     "output_type": "stream",
     "text": [
      "[[1. 1. 1. 1.]\n",
      " [1. 1. 1. 1.]\n",
      " [1. 1. 1. 1.]]\n"
     ]
    }
   ],
   "source": [
    "a=np.ones((3,4))\n",
    "print(a)"
   ]
  },
  {
   "cell_type": "code",
   "execution_count": 52,
   "id": "704f5fb7-96a1-4bb3-8eb7-93d48e54dd2c",
   "metadata": {},
   "outputs": [
    {
     "data": {
      "text/plain": [
       "array([[0., 0., 0., 0.],\n",
       "       [0., 0., 0., 0.],\n",
       "       [0., 0., 0., 0.]])"
      ]
     },
     "execution_count": 52,
     "metadata": {},
     "output_type": "execute_result"
    }
   ],
   "source": [
    "np.zeros((3,4))"
   ]
  },
  {
   "cell_type": "code",
   "execution_count": 54,
   "id": "1fd5ca6c-b036-4de1-aa81-be3217d4d8dd",
   "metadata": {},
   "outputs": [
    {
     "data": {
      "text/plain": [
       "array([12.  , 12.25, 12.5 , 12.75, 13.  ])"
      ]
     },
     "execution_count": 54,
     "metadata": {},
     "output_type": "execute_result"
    }
   ],
   "source": [
    "np.linspace(12,13,5)"
   ]
  },
  {
   "cell_type": "code",
   "execution_count": 55,
   "id": "0b7a6832-e7fd-4288-b069-7fa96a5a4cad",
   "metadata": {},
   "outputs": [
    {
     "data": {
      "text/plain": [
       "array([[1., 0., 0.],\n",
       "       [0., 1., 0.],\n",
       "       [0., 0., 1.]])"
      ]
     },
     "execution_count": 55,
     "metadata": {},
     "output_type": "execute_result"
    }
   ],
   "source": [
    "np.identity(3)"
   ]
  },
  {
   "cell_type": "code",
   "execution_count": 58,
   "id": "a28b61eb-0403-44cb-884e-dfe3ecaa27c9",
   "metadata": {},
   "outputs": [
    {
     "data": {
      "text/plain": [
       "2"
      ]
     },
     "execution_count": 58,
     "metadata": {},
     "output_type": "execute_result"
    }
   ],
   "source": [
    "a.ndim"
   ]
  },
  {
   "cell_type": "code",
   "execution_count": 59,
   "id": "6187725c-05a2-4813-bf3c-232455467ec6",
   "metadata": {},
   "outputs": [
    {
     "data": {
      "text/plain": [
       "(3, 4)"
      ]
     },
     "execution_count": 59,
     "metadata": {},
     "output_type": "execute_result"
    }
   ],
   "source": [
    "a.shape"
   ]
  },
  {
   "cell_type": "code",
   "execution_count": 60,
   "id": "ac1a55c9-d080-44f9-9621-0341d54530e1",
   "metadata": {},
   "outputs": [
    {
     "data": {
      "text/plain": [
       "12"
      ]
     },
     "execution_count": 60,
     "metadata": {},
     "output_type": "execute_result"
    }
   ],
   "source": [
    "a.size"
   ]
  },
  {
   "cell_type": "code",
   "execution_count": 66,
   "id": "cb3716ad-3241-4b3a-98e7-e868e5c5e0eb",
   "metadata": {},
   "outputs": [
    {
     "name": "stdout",
     "output_type": "stream",
     "text": [
      "[[[ 1  2  3  4]\n",
      "  [ 5  6  7  8]\n",
      "  [ 9 10 11 12]]]\n"
     ]
    }
   ],
   "source": [
    "a=np.arange(1,13,1).reshape(1,3,4)\n",
    "print(a)"
   ]
  },
  {
   "cell_type": "code",
   "execution_count": 67,
   "id": "2d512404-46a1-4fad-ba8c-386ce653a95b",
   "metadata": {},
   "outputs": [
    {
     "data": {
      "text/plain": [
       "array([[[False, False,  True,  True],\n",
       "        [ True,  True,  True,  True],\n",
       "        [ True,  True,  True,  True]]])"
      ]
     },
     "execution_count": 67,
     "metadata": {},
     "output_type": "execute_result"
    }
   ],
   "source": [
    "a>2"
   ]
  },
  {
   "cell_type": "code",
   "execution_count": 74,
   "id": "361e0b1a-4ac0-4ff0-a9c8-b22df2d8ecda",
   "metadata": {},
   "outputs": [
    {
     "name": "stdout",
     "output_type": "stream",
     "text": [
      "6\n",
      "1\n",
      "[[[ 1  2  3  4]\n",
      "  [ 5  6  7  8]\n",
      "  [ 9 10 11 12]]]\n"
     ]
    }
   ],
   "source": [
    "print(a[0,1,1])\n",
    "print(a[0,0,0])\n",
    "print(a[:1])"
   ]
  },
  {
   "cell_type": "code",
   "execution_count": 77,
   "id": "d37af9ce-504c-4572-8005-126b732ca4f7",
   "metadata": {},
   "outputs": [
    {
     "name": "stdout",
     "output_type": "stream",
     "text": [
      "[[[4 3 5 7 4 3 5 4 2 6]\n",
      "  [5 2 8 8 3 2 8 9 4 2]\n",
      "  [8 6 6 6 3 9 2 7 5 4]]\n",
      "\n",
      " [[6 9 3 3 3 8 9 2 8 8]\n",
      "  [5 9 3 9 4 5 6 5 9 8]\n",
      "  [2 2 3 9 6 5 3 3 8 8]]]\n"
     ]
    }
   ],
   "source": [
    "a=np.random.randint(2,10,60).reshape(2,3,10)\n",
    "print(a)"
   ]
  },
  {
   "cell_type": "code",
   "execution_count": 81,
   "id": "319b837d-a821-4449-9b2a-11faff712ae3",
   "metadata": {},
   "outputs": [
    {
     "name": "stdout",
     "output_type": "stream",
     "text": [
      "[[[4 3 5 7 4 3 5 4 2 6]\n",
      "  [5 2 8 8 3 2 8 9 4 2]\n",
      "  [8 6 6 6 3 9 2 7 5 4]]]\n"
     ]
    }
   ],
   "source": [
    "print(a[:1])"
   ]
  },
  {
   "cell_type": "code",
   "execution_count": 82,
   "id": "1d21a6a1-dff3-46dd-825c-b668a46b6f9d",
   "metadata": {},
   "outputs": [
    {
     "name": "stdout",
     "output_type": "stream",
     "text": [
      "[[[6 9 3 3 3 8 9 2 8 8]\n",
      "  [5 9 3 9 4 5 6 5 9 8]\n",
      "  [2 2 3 9 6 5 3 3 8 8]]]\n"
     ]
    }
   ],
   "source": [
    "print(a[1:2])"
   ]
  },
  {
   "cell_type": "code",
   "execution_count": 83,
   "id": "221eeda8-f13d-49fa-98e3-448bb2e69d29",
   "metadata": {},
   "outputs": [
    {
     "name": "stdout",
     "output_type": "stream",
     "text": [
      "[[4 5]\n",
      " [3 9]\n",
      " [5 3]\n",
      " [7 9]\n",
      " [4 4]\n",
      " [3 5]\n",
      " [5 6]\n",
      " [4 5]\n",
      " [2 9]\n",
      " [6 8]]\n",
      "[4 3 5 7 4 3 5 4 2 6 5 2 8 8 3 2 8 9 4 2 8 6 6 6 3 9 2 7 5 4 6 9 3 3 3 8 9\n",
      " 2 8 8 5 9 3 9 4 5 6 5 9 8 2 2 3 9 6 5 3 3 8 8]\n",
      "9\n",
      "2\n",
      "321\n",
      "5.35\n"
     ]
    }
   ],
   "source": [
    "print(a.diagonal())\n",
    "print(a.flatten())\n",
    "print(a.max())\n",
    "print(a.min())\n",
    "print(a.sum())\n",
    "print(a.mean())"
   ]
  },
  {
   "cell_type": "code",
   "execution_count": 91,
   "id": "2d3953ec-1ee9-4f25-863a-9c1a479b9f0e",
   "metadata": {},
   "outputs": [
    {
     "name": "stdout",
     "output_type": "stream",
     "text": [
      "[[ 0  2  4  6]\n",
      " [ 8 10 12 14]\n",
      " [16 18 20 22]]\n",
      "----------------------------------------\n",
      "[[ 1  3  5  7]\n",
      " [ 9 11 13 15]\n",
      " [17 19 21 23]]\n",
      "----------------------------------------\n",
      "[[ 0  2  4  6]\n",
      " [ 8 10 12 14]\n",
      " [16 18 20 22]\n",
      " [ 1  3  5  7]\n",
      " [ 9 11 13 15]\n",
      " [17 19 21 23]]\n",
      "----------------------------------------\n",
      "[[ 0  2  4  6  1  3  5  7]\n",
      " [ 8 10 12 14  9 11 13 15]\n",
      " [16 18 20 22 17 19 21 23]]\n"
     ]
    }
   ],
   "source": [
    "m1=np.arange(0,24,2).reshape(3,4)\n",
    "print(m1)\n",
    "print(40*'-')\n",
    "m2=np.arange(1,24,2).reshape(3,4)\n",
    "print(m2)\n",
    "print(40*'-')\n",
    "print(np.vstack((m1,m2)))\n",
    "print(40*'-')\n",
    "print(np.hstack((m1,m2)))"
   ]
  },
  {
   "cell_type": "code",
   "execution_count": 92,
   "id": "f19b8bca-1c61-43f3-9d41-494212760924",
   "metadata": {},
   "outputs": [
    {
     "data": {
      "image/png": "[encoded data removed]",
      "text/plain": [
       "<Figure size 640x480 with 1 Axes>"
      ]
     },
     "metadata": {},
     "output_type": "display_data"
    }
   ],
   "source": [
    "import matplotlib.pyplot as plt\n",
    "import numpy as np\n",
    "x=np.arange(0,5)\n",
    "y=[i**2 for i in x]\n",
    "plt.plot(x,y,marker=\"*\",mfc=\"k\",mec=\"w\",c=\"g\",ms=\"15\")\n",
    "plt.xlabel(\"numbers\")\n",
    "plt.ylabel(\"squares\")\n",
    "plt.title(\"SIMPLE GRAPH\")\n",
    "plt.show()"
   ]
  },
  {
   "cell_type": "code",
   "execution_count": 101,
   "id": "dab85a30-32f1-4427-9dd4-3aa20b2ee772",
   "metadata": {},
   "outputs": [
    {
     "data": {
      "image/png": "[encoded data removed]",
      "text/plain": [
       "<Figure size 640x480 with 1 Axes>"
      ]
     },
     "metadata": {},
     "output_type": "display_data"
    }
   ],
   "source": [
    "import matplotlib.pyplot as plt\n",
    "import numpy as np\n",
    "x=np.arange(0,5)\n",
    "y=[i**2 for i in x]\n",
    "f1={'family':'cambria','size':20,'color':'g'}\n",
    "plt.plot(x,y,marker=\"*\",mfc=\"k\",mec=\"w\",c=\"g\",ms=\"15\",ls=\"dashed\")\n",
    "plt.xlabel(\"numbers\",fontdict=f1)\n",
    "plt.ylabel(\"squares\",fontdict=f1)\n",
    "plt.title(\"SIMPLE GRAPH\",fontdict=f1)\n",
    "plt.show()"
   ]
  },
  {
   "cell_type": "code",
   "execution_count": 98,
   "id": "82b0181d-d801-42ed-9f52-844ddc42af47",
   "metadata": {},
   "outputs": [
    {
     "data": {
      "image/png": "[encoded data removed]",
      "text/plain": [
       "<Figure size 640x480 with 1 Axes>"
      ]
     },
     "metadata": {},
     "output_type": "display_data"
    }
   ],
   "source": [
    "import matplotlib.pyplot as plt\n",
    "\n",
    "x = [1, 2, 3, 4]\n",
    "y = [10, 20, 30, 40]\n",
    "\n",
    "plt.plot(x, y)\n",
    "plt.grid(True, axis='x', linestyle=\"--\", linewidth=0.5, color=\"blue\")  # Grid only for x-axis\n",
    "plt.show()\n"
   ]
  },
  {
   "cell_type": "code",
   "execution_count": 99,
   "id": "da9c0974-3263-402e-a5cc-6154f905f2b5",
   "metadata": {},
   "outputs": [
    {
     "data": {
      "image/png": "[encoded data removed]",
      "text/plain": [
       "<Figure size 640x480 with 2 Axes>"
      ]
     },
     "metadata": {},
     "output_type": "display_data"
    }
   ],
   "source": [
    "x=[1,2,3,4]\n",
    "y1=[50,20,30,18]\n",
    "y2=[60,78,89,24]\n",
    "plt.suptitle('Multiple plots')\n",
    "plt.subplot(2,2,1)\n",
    "plt.plot(x,y1)\n",
    "plt.title('Plot-1')\n",
    "plt.subplot(2,2,3)\n",
    "plt.plot(x,y2)\n",
    "plt.title('Plot-2')\n",
    "plt.show()"
   ]
  },
  {
   "cell_type": "code",
   "execution_count": 106,
   "id": "43c2a3d6-1b5f-4750-a280-59088a101cc9",
   "metadata": {},
   "outputs": [
    {
     "data": {
      "image/png": "[encoded data removed]",
      "text/plain": [
       "<Figure size 640x480 with 1 Axes>"
      ]
     },
     "metadata": {},
     "output_type": "display_data"
    }
   ],
   "source": [
    "x=[1,2,3,4]\n",
    "y1=[50,20,30,18]\n",
    "y2=[60,78,89,24]\n",
    "plt.plot(x,y1,label=\"SQUARES\")\n",
    "plt.plot(x,y2,label=\"CUBES\")\n",
    "plt.legend(loc=\"upper left\" ,facecolor=\"yellow\",edgecolor=\"black\",shadow=True,fontsize=15)\n",
    "plt.show()"
   ]
  },
  {
   "cell_type": "code",
   "execution_count": 109,
   "id": "65585395-4312-4910-b0c7-15fbc2cc88fc",
   "metadata": {},
   "outputs": [
    {
     "data": {
      "image/png": "[encoded data removed]",
      "text/plain": [
       "<Figure size 640x480 with 1 Axes>"
      ]
     },
     "metadata": {},
     "output_type": "display_data"
    }
   ],
   "source": [
    "import random\n",
    "x=np.arange(1,10)\n",
    "y=x*10\n",
    "random.shuffle(y)\n",
    "plt.scatter(x,y,c=\"k\")\n",
    "x=np.arange(1,10)\n",
    "y=x*10\n",
    "random.shuffle(y)\n",
    "plt.scatter(x,y,c=\"g\")\n",
    "plt.show()\n"
   ]
  },
  {
   "cell_type": "code",
   "execution_count": 110,
   "id": "39ba5371-0e1f-480b-8a03-74140993606d",
   "metadata": {},
   "outputs": [
    {
     "data": {
      "image/png": "[encoded data removed]",
      "text/plain": [
       "<Figure size 640x480 with 2 Axes>"
      ]
     },
     "metadata": {},
     "output_type": "display_data"
    }
   ],
   "source": [
    "x=np.arange(1,5)\n",
    "y=x*10\n",
    "sizes=[100,50,387,54]\n",
    "plt.scatter(x,y,c=\"k\")\n",
    "plt.colorbar()\n",
    "plt.show()"
   ]
  },
  {
   "cell_type": "code",
   "execution_count": 112,
   "id": "cb0b9367-d5a7-445c-a112-bed9c25b7016",
   "metadata": {},
   "outputs": [
    {
     "data": {
      "image/png": "[encoded data removed]",
      "text/plain": [
       "<Figure size 640x480 with 1 Axes>"
      ]
     },
     "metadata": {},
     "output_type": "display_data"
    }
   ],
   "source": [
    "X=['A','B','C','D']\n",
    "Y=[10,30,5,15]\n",
    "plt.bar(X,Y,color='black',width=0.9)\n",
    "plt.show()"
   ]
  },
  {
   "cell_type": "code",
   "execution_count": 114,
   "id": "fd8b948d-c2d3-4bed-840e-102ba9f33b98",
   "metadata": {},
   "outputs": [
    {
     "data": {
      "image/png": "[encoded data removed]",
      "text/plain": [
       "<Figure size 640x480 with 1 Axes>"
      ]
     },
     "metadata": {},
     "output_type": "display_data"
    }
   ],
   "source": [
    "X=['A','B','C','D']\n",
    "Y=[10,30,5,15]\n",
    "plt.barh(X,Y,color='red',height=0.9)\n",
    "plt.show()"
   ]
  },
  {
   "cell_type": "code",
   "execution_count": 5,
   "id": "f743af08-d29d-4804-bfa4-187b95a14483",
   "metadata": {},
   "outputs": [
    {
     "data": {
      "image/png": "[encoded data removed]",
      "text/plain": [
       "<Figure size 640x480 with 1 Axes>"
      ]
     },
     "metadata": {},
     "output_type": "display_data"
    }
   ],
   "source": [
    "import matplotlib.pyplot as plt\n",
    "studentp=[\"E\",\"P\",\"G\",\"F\"]\n",
    "studentv=[100,80,50,30]\n",
    "colors=[\"red\",\"yellow\",\"green\",\"black\"]\n",
    "plt.pie(studentv,labels=studentp,colors=[\"red\",\"yellow\",\"green\",\"black\"],autopct=\"%2.1f%%\",explode=[0.2,0,0,0])\n",
    "plt.show()"
   ]
  },
  {
   "cell_type": "code",
   "execution_count": 7,
   "id": "d3126bbd-2d53-403c-a095-07e389ba67d8",
   "metadata": {},
   "outputs": [
    {
     "data": {
      "text/plain": [
       "(array([3., 1., 3.]),\n",
       " array([  0.,  30.,  75., 100.]),\n",
       " <BarContainer object of 3 artists>)"
      ]
     },
     "execution_count": 7,
     "metadata": {},
     "output_type": "execute_result"
    },
    {
     "data": {
      "image/png": "[encoded data removed]",
      "text/plain": [
       "<Figure size 640x480 with 1 Axes>"
      ]
     },
     "metadata": {},
     "output_type": "display_data"
    }
   ],
   "source": [
    "x=[10,15,40,7146,78,16,84,94]\n",
    "y=[0,30,75,100]\n",
    "plt.hist(x,y,histtype=\"bar\",rwidth=0.7)\n"
   ]
  },
  {
   "cell_type": "code",
   "execution_count": 8,
   "id": "ec3bbe72-1ddc-41e2-a94d-8241ff8b0f6d",
   "metadata": {},
   "outputs": [
    {
     "name": "stdout",
     "output_type": "stream",
     "text": [
      "   apples  banana\n",
      "A      10      54\n",
      "B      20      45\n",
      "C      30      46\n"
     ]
    }
   ],
   "source": [
    "import pandas as pd\n",
    "data=pd.DataFrame({\n",
    "    'apples':[10,20,30],\n",
    "    'banana':[54,45,46]\n",
    "},index=['A','B','C'])\n",
    "print(data)"
   ]
  },
  {
   "cell_type": "code",
   "execution_count": 9,
   "id": "7d9e1d88-ae14-4215-afa3-9c2fecc9e8b7",
   "metadata": {},
   "outputs": [
    {
     "name": "stdout",
     "output_type": "stream",
     "text": [
      "apples    20\n",
      "banana    45\n",
      "Name: B, dtype: int64\n"
     ]
    }
   ],
   "source": [
    "print(data.loc['B'])"
   ]
  },
  {
   "cell_type": "code",
   "execution_count": 10,
   "id": "37c89dc9-6552-4ae1-acff-ece240848c60",
   "metadata": {},
   "outputs": [
    {
     "data": {
      "text/html": [
       "<div>\n",
       "<style scoped>\n",
       "    .dataframe tbody tr th:only-of-type {\n",
       "        vertical-align: middle;\n",
       "    }\n",
       "\n",
       "    .dataframe tbody tr th {\n",
       "        vertical-align: top;\n",
       "    }\n",
       "\n",
       "    .dataframe thead th {\n",
       "        text-align: right;\n",
       "    }\n",
       "</style>\n",
       "<table border=\"1\" class=\"dataframe\">\n",
       "  <thead>\n",
       "    <tr style=\"text-align: right;\">\n",
       "      <th></th>\n",
       "      <th>apples</th>\n",
       "      <th>banana</th>\n",
       "    </tr>\n",
       "  </thead>\n",
       "  <tbody>\n",
       "    <tr>\n",
       "      <th>A</th>\n",
       "      <td>10</td>\n",
       "      <td>54</td>\n",
       "    </tr>\n",
       "    <tr>\n",
       "      <th>B</th>\n",
       "      <td>20</td>\n",
       "      <td>45</td>\n",
       "    </tr>\n",
       "  </tbody>\n",
       "</table>\n",
       "</div>"
      ],
      "text/plain": [
       "   apples  banana\n",
       "A      10      54\n",
       "B      20      45"
      ]
     },
     "execution_count": 10,
     "metadata": {},
     "output_type": "execute_result"
    }
   ],
   "source": [
    "data.loc['A':'B']"
   ]
  },
  {
   "cell_type": "code",
   "execution_count": 12,
   "id": "71bdc010-0b06-4212-9a8d-3fb8b8764096",
   "metadata": {},
   "outputs": [
    {
     "data": {
      "text/html": [
       "<div>\n",
       "<style scoped>\n",
       "    .dataframe tbody tr th:only-of-type {\n",
       "        vertical-align: middle;\n",
       "    }\n",
       "\n",
       "    .dataframe tbody tr th {\n",
       "        vertical-align: top;\n",
       "    }\n",
       "\n",
       "    .dataframe thead th {\n",
       "        text-align: right;\n",
       "    }\n",
       "</style>\n",
       "<table border=\"1\" class=\"dataframe\">\n",
       "  <thead>\n",
       "    <tr style=\"text-align: right;\">\n",
       "      <th></th>\n",
       "      <th>apples</th>\n",
       "      <th>banana</th>\n",
       "    </tr>\n",
       "  </thead>\n",
       "  <tbody>\n",
       "    <tr>\n",
       "      <th>A</th>\n",
       "      <td>10</td>\n",
       "      <td>54</td>\n",
       "    </tr>\n",
       "  </tbody>\n",
       "</table>\n",
       "</div>"
      ],
      "text/plain": [
       "   apples  banana\n",
       "A      10      54"
      ]
     },
     "execution_count": 12,
     "metadata": {},
     "output_type": "execute_result"
    }
   ],
   "source": [
    "data[:1]"
   ]
  },
  {
   "cell_type": "code",
   "execution_count": 17,
   "id": "b38e2be1-ff09-4930-bc1c-c3a8045ed98a",
   "metadata": {},
   "outputs": [
    {
     "name": "stdout",
     "output_type": "stream",
     "text": [
      "      temp\n",
      "city      \n",
      "DWD     49\n",
      "LXR     50\n",
      "(2, 1)\n"
     ]
    }
   ],
   "source": [
    "df=pd.read_csv('tempdata.csv',index_col=0)\n",
    "print(df)\n",
    "print(df.shape)"
   ]
  },
  {
   "cell_type": "code",
   "execution_count": 20,
   "id": "1e29daa6-0b44-4a31-a531-cf0c7c01c376",
   "metadata": {},
   "outputs": [
    {
     "name": "stdout",
     "output_type": "stream",
     "text": [
      "   Petrol_tax  Average_income  Paved_Highways  Population_Driver_licence(%)  \\\n",
      "0         9.0            3571            1976                         0.525   \n",
      "1         9.0            4092            1250                         0.572   \n",
      "2         9.0            3865            1586                         0.580   \n",
      "3         7.5            4870            2351                         0.529   \n",
      "4         8.0            4399             431                         0.544   \n",
      "\n",
      "   Petrol_Consumption  \n",
      "0                 541  \n",
      "1                 524  \n",
      "2                 561  \n",
      "3                 414  \n",
      "4                 410  \n"
     ]
    }
   ],
   "source": [
    "df=pd.read_csv('petrol_consumption.csv')\n",
    "print(df.head())"
   ]
  },
  {
   "cell_type": "code",
   "execution_count": 21,
   "id": "fe024999-580c-4f17-b764-7beca6c955d2",
   "metadata": {},
   "outputs": [
    {
     "data": {
      "text/html": [
       "<div>\n",
       "<style scoped>\n",
       "    .dataframe tbody tr th:only-of-type {\n",
       "        vertical-align: middle;\n",
       "    }\n",
       "\n",
       "    .dataframe tbody tr th {\n",
       "        vertical-align: top;\n",
       "    }\n",
       "\n",
       "    .dataframe thead th {\n",
       "        text-align: right;\n",
       "    }\n",
       "</style>\n",
       "<table border=\"1\" class=\"dataframe\">\n",
       "  <thead>\n",
       "    <tr style=\"text-align: right;\">\n",
       "      <th></th>\n",
       "      <th>Petrol_tax</th>\n",
       "      <th>Average_income</th>\n",
       "      <th>Paved_Highways</th>\n",
       "      <th>Population_Driver_licence(%)</th>\n",
       "      <th>Petrol_Consumption</th>\n",
       "    </tr>\n",
       "  </thead>\n",
       "  <tbody>\n",
       "    <tr>\n",
       "      <th>0</th>\n",
       "      <td>9.0</td>\n",
       "      <td>3571</td>\n",
       "      <td>1976</td>\n",
       "      <td>0.525</td>\n",
       "      <td>541</td>\n",
       "    </tr>\n",
       "    <tr>\n",
       "      <th>1</th>\n",
       "      <td>9.0</td>\n",
       "      <td>4092</td>\n",
       "      <td>1250</td>\n",
       "      <td>0.572</td>\n",
       "      <td>524</td>\n",
       "    </tr>\n",
       "    <tr>\n",
       "      <th>2</th>\n",
       "      <td>9.0</td>\n",
       "      <td>3865</td>\n",
       "      <td>1586</td>\n",
       "      <td>0.580</td>\n",
       "      <td>561</td>\n",
       "    </tr>\n",
       "  </tbody>\n",
       "</table>\n",
       "</div>"
      ],
      "text/plain": [
       "   Petrol_tax  Average_income  Paved_Highways  Population_Driver_licence(%)  \\\n",
       "0         9.0            3571            1976                         0.525   \n",
       "1         9.0            4092            1250                         0.572   \n",
       "2         9.0            3865            1586                         0.580   \n",
       "\n",
       "   Petrol_Consumption  \n",
       "0                 541  \n",
       "1                 524  \n",
       "2                 561  "
      ]
     },
     "execution_count": 21,
     "metadata": {},
     "output_type": "execute_result"
    }
   ],
   "source": [
    "df.head(3)"
   ]
  },
  {
   "cell_type": "code",
   "execution_count": 22,
   "id": "cd383d02-5835-4448-acc1-033faac6ada2",
   "metadata": {},
   "outputs": [
    {
     "data": {
      "text/html": [
       "<div>\n",
       "<style scoped>\n",
       "    .dataframe tbody tr th:only-of-type {\n",
       "        vertical-align: middle;\n",
       "    }\n",
       "\n",
       "    .dataframe tbody tr th {\n",
       "        vertical-align: top;\n",
       "    }\n",
       "\n",
       "    .dataframe thead th {\n",
       "        text-align: right;\n",
       "    }\n",
       "</style>\n",
       "<table border=\"1\" class=\"dataframe\">\n",
       "  <thead>\n",
       "    <tr style=\"text-align: right;\">\n",
       "      <th></th>\n",
       "      <th>Petrol_tax</th>\n",
       "      <th>Average_income</th>\n",
       "      <th>Paved_Highways</th>\n",
       "      <th>Population_Driver_licence(%)</th>\n",
       "      <th>Petrol_Consumption</th>\n",
       "    </tr>\n",
       "  </thead>\n",
       "  <tbody>\n",
       "    <tr>\n",
       "      <th>43</th>\n",
       "      <td>7.0</td>\n",
       "      <td>3745</td>\n",
       "      <td>2611</td>\n",
       "      <td>0.508</td>\n",
       "      <td>591</td>\n",
       "    </tr>\n",
       "    <tr>\n",
       "      <th>44</th>\n",
       "      <td>6.0</td>\n",
       "      <td>5215</td>\n",
       "      <td>2302</td>\n",
       "      <td>0.672</td>\n",
       "      <td>782</td>\n",
       "    </tr>\n",
       "    <tr>\n",
       "      <th>45</th>\n",
       "      <td>9.0</td>\n",
       "      <td>4476</td>\n",
       "      <td>3942</td>\n",
       "      <td>0.571</td>\n",
       "      <td>510</td>\n",
       "    </tr>\n",
       "    <tr>\n",
       "      <th>46</th>\n",
       "      <td>7.0</td>\n",
       "      <td>4296</td>\n",
       "      <td>4083</td>\n",
       "      <td>0.623</td>\n",
       "      <td>610</td>\n",
       "    </tr>\n",
       "    <tr>\n",
       "      <th>47</th>\n",
       "      <td>7.0</td>\n",
       "      <td>5002</td>\n",
       "      <td>9794</td>\n",
       "      <td>0.593</td>\n",
       "      <td>524</td>\n",
       "    </tr>\n",
       "  </tbody>\n",
       "</table>\n",
       "</div>"
      ],
      "text/plain": [
       "    Petrol_tax  Average_income  Paved_Highways  Population_Driver_licence(%)  \\\n",
       "43         7.0            3745            2611                         0.508   \n",
       "44         6.0            5215            2302                         0.672   \n",
       "45         9.0            4476            3942                         0.571   \n",
       "46         7.0            4296            4083                         0.623   \n",
       "47         7.0            5002            9794                         0.593   \n",
       "\n",
       "    Petrol_Consumption  \n",
       "43                 591  \n",
       "44                 782  \n",
       "45                 510  \n",
       "46                 610  \n",
       "47                 524  "
      ]
     },
     "execution_count": 22,
     "metadata": {},
     "output_type": "execute_result"
    }
   ],
   "source": [
    "df.tail()"
   ]
  },
  {
   "cell_type": "code",
   "execution_count": 23,
   "id": "d1790617-c209-416b-816f-b50594af174e",
   "metadata": {},
   "outputs": [
    {
     "data": {
      "text/html": [
       "<div>\n",
       "<style scoped>\n",
       "    .dataframe tbody tr th:only-of-type {\n",
       "        vertical-align: middle;\n",
       "    }\n",
       "\n",
       "    .dataframe tbody tr th {\n",
       "        vertical-align: top;\n",
       "    }\n",
       "\n",
       "    .dataframe thead th {\n",
       "        text-align: right;\n",
       "    }\n",
       "</style>\n",
       "<table border=\"1\" class=\"dataframe\">\n",
       "  <thead>\n",
       "    <tr style=\"text-align: right;\">\n",
       "      <th></th>\n",
       "      <th>Petrol_tax</th>\n",
       "      <th>Average_income</th>\n",
       "      <th>Paved_Highways</th>\n",
       "      <th>Population_Driver_licence(%)</th>\n",
       "      <th>Petrol_Consumption</th>\n",
       "    </tr>\n",
       "  </thead>\n",
       "  <tbody>\n",
       "    <tr>\n",
       "      <th>45</th>\n",
       "      <td>9.0</td>\n",
       "      <td>4476</td>\n",
       "      <td>3942</td>\n",
       "      <td>0.571</td>\n",
       "      <td>510</td>\n",
       "    </tr>\n",
       "    <tr>\n",
       "      <th>46</th>\n",
       "      <td>7.0</td>\n",
       "      <td>4296</td>\n",
       "      <td>4083</td>\n",
       "      <td>0.623</td>\n",
       "      <td>610</td>\n",
       "    </tr>\n",
       "    <tr>\n",
       "      <th>47</th>\n",
       "      <td>7.0</td>\n",
       "      <td>5002</td>\n",
       "      <td>9794</td>\n",
       "      <td>0.593</td>\n",
       "      <td>524</td>\n",
       "    </tr>\n",
       "  </tbody>\n",
       "</table>\n",
       "</div>"
      ],
      "text/plain": [
       "    Petrol_tax  Average_income  Paved_Highways  Population_Driver_licence(%)  \\\n",
       "45         9.0            4476            3942                         0.571   \n",
       "46         7.0            4296            4083                         0.623   \n",
       "47         7.0            5002            9794                         0.593   \n",
       "\n",
       "    Petrol_Consumption  \n",
       "45                 510  \n",
       "46                 610  \n",
       "47                 524  "
      ]
     },
     "execution_count": 23,
     "metadata": {},
     "output_type": "execute_result"
    }
   ],
   "source": [
    "df.tail(3)"
   ]
  },
  {
   "cell_type": "code",
   "execution_count": 26,
   "id": "4b28f019-073b-40dd-988a-066d8cec15da",
   "metadata": {},
   "outputs": [
    {
     "name": "stdout",
     "output_type": "stream",
     "text": [
      "    Petrol_tax  Average_income  Paved_Highways  Population_Driver_licence(%)  \\\n",
      "0         9.00            3571            1976                         0.525   \n",
      "1         9.00            4092            1250                         0.572   \n",
      "2         9.00            3865            1586                         0.580   \n",
      "3         7.50            4870            2351                         0.529   \n",
      "4         8.00            4399             431                         0.544   \n",
      "5        10.00            5342            1333                         0.571   \n",
      "6         8.00            5319           11868                         0.451   \n",
      "7         8.00            5126            2138                         0.553   \n",
      "8         8.00            4447            8577                         0.529   \n",
      "9         7.00            4512            8507                         0.552   \n",
      "10        8.00            4391            5939                         0.530   \n",
      "11        7.50            5126           14186                         0.525   \n",
      "12        7.00            4817            6930                         0.574   \n",
      "13        7.00            4207            6580                         0.545   \n",
      "14        7.00            4332            8159                         0.608   \n",
      "15        7.00            4318           10340                         0.586   \n",
      "16        7.00            4206            8508                         0.572   \n",
      "17        7.00            3718            4725                         0.540   \n",
      "18        7.00            4716            5915                         0.724   \n",
      "19        8.50            4341            6010                         0.677   \n",
      "20        7.00            4593            7834                         0.663   \n",
      "21        8.00            4983             602                         0.602   \n",
      "22        9.00            4897            2449                         0.511   \n",
      "23        9.00            4258            4686                         0.517   \n",
      "24        8.50            4574            2619                         0.551   \n",
      "25        9.00            3721            4746                         0.544   \n",
      "26        8.00            3448            5399                         0.548   \n",
      "27        7.50            3846            9061                         0.579   \n",
      "28        8.00            4188            5975                         0.563   \n",
      "29        9.00            3601            4650                         0.493   \n",
      "30        7.00            3640            6905                         0.518   \n",
      "31        7.00            3333            6594                         0.513   \n",
      "32        8.00            3063            6524                         0.578   \n",
      "33        7.50            3357            4121                         0.547   \n",
      "34        8.00            3528            3495                         0.487   \n",
      "35        6.58            3802            7834                         0.629   \n",
      "36        5.00            4045           17782                         0.566   \n",
      "37        7.00            3897            6385                         0.586   \n",
      "38        8.50            3635            3274                         0.663   \n",
      "39        7.00            4345            3905                         0.672   \n",
      "40        7.00            4449            4639                         0.626   \n",
      "41        7.00            3656            3985                         0.563   \n",
      "42        7.00            4300            3635                         0.603   \n",
      "43        7.00            3745            2611                         0.508   \n",
      "44        6.00            5215            2302                         0.672   \n",
      "45        9.00            4476            3942                         0.571   \n",
      "46        7.00            4296            4083                         0.623   \n",
      "47        7.00            5002            9794                         0.593   \n",
      "\n",
      "    Petrol_Consumption  \n",
      "0                  541  \n",
      "1                  524  \n",
      "2                  561  \n",
      "3                  414  \n",
      "4                  410  \n",
      "5                  457  \n",
      "6                  344  \n",
      "7                  467  \n",
      "8                  464  \n",
      "9                  498  \n",
      "10                 580  \n",
      "11                 471  \n",
      "12                 525  \n",
      "13                 508  \n",
      "14                 566  \n",
      "15                 635  \n",
      "16                 603  \n",
      "17                 714  \n",
      "18                 865  \n",
      "19                 640  \n",
      "20                 649  \n",
      "21                 540  \n",
      "22                 464  \n",
      "23                 547  \n",
      "24                 460  \n",
      "25                 566  \n",
      "26                 577  \n",
      "27                 631  \n",
      "28                 574  \n",
      "29                 534  \n",
      "30                 571  \n",
      "31                 554  \n",
      "32                 577  \n",
      "33                 628  \n",
      "34                 487  \n",
      "35                 644  \n",
      "36                 640  \n",
      "37                 704  \n",
      "38                 648  \n",
      "39                 968  \n",
      "40                 587  \n",
      "41                 699  \n",
      "42                 632  \n",
      "43                 591  \n",
      "44                 782  \n",
      "45                 510  \n",
      "46                 610  \n",
      "47                 524  \n"
     ]
    }
   ],
   "source": [
    "print(df.drop_duplicates(inplace=False)) #true none"
   ]
  },
  {
   "cell_type": "code",
   "execution_count": 27,
   "id": "8f75c328-62d5-4a5a-99bc-51a9d3db36f7",
   "metadata": {},
   "outputs": [
    {
     "name": "stdout",
     "output_type": "stream",
     "text": [
      "  name  sal\n",
      "0    v    1\n",
      "1    x    2\n",
      "2    v    1\n",
      "3    z    3\n",
      "4    v    1\n",
      "0    v    1\n",
      "1    x    2\n",
      "2    v    1\n",
      "3    z    3\n",
      "4    v    1\n",
      "****************************************\n",
      "  name  sal\n",
      "0    v    1\n",
      "1    x    2\n",
      "3    z    3\n"
     ]
    }
   ],
   "source": [
    "empd=pd.DataFrame({\n",
    "    'name':['v','x','v','z','v'],\n",
    "    'sal':[1,2,1,3,1]\n",
    "})\n",
    "empd=pd.concat([empd,empd])\n",
    "print(empd)\n",
    "print(40*'*')\n",
    "print(empd.drop_duplicates(inplace=False))"
   ]
  },
  {
   "cell_type": "code",
   "execution_count": 29,
   "id": "951c6cca-d3a6-4ef9-a5de-3e04f9898752",
   "metadata": {},
   "outputs": [
    {
     "name": "stdout",
     "output_type": "stream",
     "text": [
      "0    False\n",
      "1    False\n",
      "2     True\n",
      "3    False\n",
      "4     True\n",
      "0     True\n",
      "1     True\n",
      "2     True\n",
      "3     True\n",
      "4     True\n",
      "dtype: bool\n"
     ]
    }
   ],
   "source": [
    "print(empd.duplicated())"
   ]
  },
  {
   "cell_type": "code",
   "execution_count": 30,
   "id": "82a2453f-204f-4d75-9198-3070ef1bce04",
   "metadata": {},
   "outputs": [
    {
     "name": "stdout",
     "output_type": "stream",
     "text": [
      "0    False\n",
      "1    False\n",
      "2     True\n",
      "3    False\n",
      "4     True\n",
      "0     True\n",
      "1     True\n",
      "2     True\n",
      "3     True\n",
      "4     True\n",
      "dtype: bool\n",
      "****************************************\n",
      "0     True\n",
      "1     True\n",
      "2     True\n",
      "3     True\n",
      "4     True\n",
      "0     True\n",
      "1    False\n",
      "2     True\n",
      "3    False\n",
      "4    False\n",
      "dtype: bool\n"
     ]
    }
   ],
   "source": [
    "print(empd.duplicated(keep=\"first\"))\n",
    "print(40*'*')\n",
    "print(empd.duplicated(keep=\"last\"))"
   ]
  },
  {
   "cell_type": "code",
   "execution_count": 31,
   "id": "36fd45ee-aaf5-48e6-afb5-c0238e87cb25",
   "metadata": {},
   "outputs": [
    {
     "name": "stdout",
     "output_type": "stream",
     "text": [
      "   title  genere  Releaseyear  rating\n",
      "0  Devil  action         2023     4.5\n",
      "1    RRR  action         2023     4.5\n",
      "2     UI  action         2024     5.0\n"
     ]
    }
   ],
   "source": [
    "mdf=pd.read_json(\"TopRatedMovies.json\")\n",
    "print(mdf)"
   ]
  },
  {
   "cell_type": "code",
   "execution_count": 32,
   "id": "972df72c-abdd-4b48-9487-b2799790f68f",
   "metadata": {},
   "outputs": [],
   "source": [
    "newcoloumns={\n",
    "    'title':'cinematitle',\n",
    "    'genere':'genrics',\n",
    "    'Releaseyear':'RY',\n",
    "    'rating':'Rate'\n",
    "}\n",
    "mdf.rename(columns=newcoloumns,inplace=True)"
   ]
  },
  {
   "cell_type": "code",
   "execution_count": 33,
   "id": "af824e0c-284f-4c68-bc3b-21e29632c0ef",
   "metadata": {},
   "outputs": [
    {
     "name": "stdout",
     "output_type": "stream",
     "text": [
      "  cinematitle genrics    RY  Rate\n",
      "0       Devil  action  2023   4.5\n",
      "1         RRR  action  2023   4.5\n",
      "2          UI  action  2024   5.0\n"
     ]
    }
   ],
   "source": [
    "print(mdf)"
   ]
  },
  {
   "cell_type": "code",
   "execution_count": 34,
   "id": "c67d5495-2340-467d-8315-5bbeca2bf749",
   "metadata": {},
   "outputs": [
    {
     "name": "stdout",
     "output_type": "stream",
     "text": [
      "  CINEMATITLE GENRICS    RY  RATE\n",
      "0       Devil  action  2023   4.5\n",
      "1         RRR  action  2023   4.5\n",
      "2          UI  action  2024   5.0\n"
     ]
    }
   ],
   "source": [
    "mdf.columns=[c.upper() for c in mdf]\n",
    "print(mdf)"
   ]
  },
  {
   "cell_type": "code",
   "execution_count": 43,
   "id": "00cf0864-c294-4890-9c7f-2c829b4babb2",
   "metadata": {},
   "outputs": [
    {
     "name": "stdout",
     "output_type": "stream",
     "text": [
      "       name        toy       born\n",
      "0    Alfred        NaN        NaT\n",
      "1    Batman  Batmobile 1940-04-25\n",
      "2  Catwoman   Bullwhip        NaT\n",
      "****************************************\n",
      "     name        toy       born\n",
      "1  Batman  Batmobile 1940-04-25\n",
      "****************************************\n",
      "       name\n",
      "0    Alfred\n",
      "1    Batman\n",
      "2  Catwoman\n",
      "****************************************\n",
      "       name        toy       born\n",
      "0    Alfred        NaN        NaT\n",
      "1    Batman  Batmobile 1940-04-25\n",
      "2  Catwoman   Bullwhip        NaT\n",
      "****************************************\n",
      "\n",
      "Missing values (True indicates missing):\n",
      "    name    toy   born\n",
      "0  False   True   True\n",
      "1  False  False  False\n",
      "2  False  False   True\n",
      "****************************************\n",
      "name    0\n",
      "toy     1\n",
      "born    2\n",
      "dtype: int64\n"
     ]
    }
   ],
   "source": [
    "import numpy as np\n",
    "df = pd.DataFrame({\"name\": ['Alfred', 'Batman', 'Catwoman'],\n",
    "                  \"toy\": [np.nan, 'Batmobile', 'Bullwhip'],\n",
    "                   \"born\": [pd.NaT, pd.Timestamp(\"1940-04-25\"),\n",
    "                            pd.NaT]})\n",
    "print(df)\n",
    "print(40*'*')\n",
    "\n",
    "# Drop the rows where at least one element is missing.\n",
    "print(df.dropna())\n",
    "print(40*'*')\n",
    "# Drop columns only if all values are missing\n",
    "print(df.dropna(axis='columns'))\n",
    "print(40*'*')\n",
    "\n",
    "print(df.dropna(axis='columns', how='all'))\n",
    "print(40*'*')\n",
    "\n",
    "# Use isnull() to check for missing values\n",
    "print(\"\\nMissing values (True indicates missing):\")\n",
    "print(df.isnull())\n",
    "print(40*'*')\n",
    "print(df.isnull().sum())"
   ]
  },
  {
   "cell_type": "code",
   "execution_count": 44,
   "id": "4e75447c-9037-4721-9454-6e4389d3f174",
   "metadata": {},
   "outputs": [
    {
     "data": {
      "text/html": [
       "<div>\n",
       "<style scoped>\n",
       "    .dataframe tbody tr th:only-of-type {\n",
       "        vertical-align: middle;\n",
       "    }\n",
       "\n",
       "    .dataframe tbody tr th {\n",
       "        vertical-align: top;\n",
       "    }\n",
       "\n",
       "    .dataframe thead th {\n",
       "        text-align: right;\n",
       "    }\n",
       "</style>\n",
       "<table border=\"1\" class=\"dataframe\">\n",
       "  <thead>\n",
       "    <tr style=\"text-align: right;\">\n",
       "      <th></th>\n",
       "      <th>Value_1</th>\n",
       "      <th>Value_2</th>\n",
       "      <th>Value_3</th>\n",
       "      <th>Value_4</th>\n",
       "    </tr>\n",
       "  </thead>\n",
       "  <tbody>\n",
       "    <tr>\n",
       "      <th>0</th>\n",
       "      <td>NaN</td>\n",
       "      <td>NaN</td>\n",
       "      <td>20.0</td>\n",
       "      <td>NaN</td>\n",
       "    </tr>\n",
       "    <tr>\n",
       "      <th>1</th>\n",
       "      <td>14.0</td>\n",
       "      <td>24.0</td>\n",
       "      <td>16.0</td>\n",
       "      <td>2.0</td>\n",
       "    </tr>\n",
       "    <tr>\n",
       "      <th>2</th>\n",
       "      <td>35.0</td>\n",
       "      <td>54.0</td>\n",
       "      <td>NaN</td>\n",
       "      <td>54.0</td>\n",
       "    </tr>\n",
       "    <tr>\n",
       "      <th>3</th>\n",
       "      <td>NaN</td>\n",
       "      <td>3.0</td>\n",
       "      <td>3.0</td>\n",
       "      <td>3.0</td>\n",
       "    </tr>\n",
       "    <tr>\n",
       "      <th>4</th>\n",
       "      <td>1.0</td>\n",
       "      <td>NaN</td>\n",
       "      <td>8.0</td>\n",
       "      <td>NaN</td>\n",
       "    </tr>\n",
       "  </tbody>\n",
       "</table>\n",
       "</div>"
      ],
      "text/plain": [
       "   Value_1  Value_2  Value_3  Value_4\n",
       "0      NaN      NaN     20.0      NaN\n",
       "1     14.0     24.0     16.0      2.0\n",
       "2     35.0     54.0      NaN     54.0\n",
       "3      NaN      3.0      3.0      3.0\n",
       "4      1.0      NaN      8.0      NaN"
      ]
     },
     "execution_count": 44,
     "metadata": {},
     "output_type": "execute_result"
    }
   ],
   "source": [
    "import pandas as pd\n",
    "# import numpy as np\n",
    "#Creating a dataframe\n",
    "df = pd.DataFrame({\"Value_1\":[None, 14, 35, None, 1,12, 74, 65, None, 1],\n",
    "                   \"Value_2\":[None, 24, 54, 3, None,None, 2, 54, 3, None],\n",
    "                   \"Value_3\":[20, 16, None, 3, 8,None, 2, 54, 3, None],\n",
    "                   \"Value_4\":[None, 2, 54, 3, None,14, 3, None, None, 6]})\n",
    "\n",
    "# print(df)\n",
    "df.head()"
   ]
  },
  {
   "cell_type": "code",
   "execution_count": 45,
   "id": "b8c56025-16c5-46ac-834c-59b81d233ea4",
   "metadata": {},
   "outputs": [
    {
     "name": "stdout",
     "output_type": "stream",
     "text": [
      "   Value_1  Value_2  Value_3  Value_4\n",
      "0     <NA>     <NA>       20     <NA>\n",
      "1       14       24       16        2\n",
      "2       35       54     <NA>       54\n",
      "3     <NA>        3        3        3\n",
      "4        1     <NA>        8     <NA>\n",
      "5       12     <NA>     <NA>       14\n",
      "6       74        2        2        3\n",
      "7       65       54       54     <NA>\n",
      "8     <NA>        3        3     <NA>\n",
      "9        1     <NA>     <NA>        6\n"
     ]
    }
   ],
   "source": [
    "df=df.astype({\n",
    "    \"Value_1\": pd.Int64Dtype(),\n",
    "    \"Value_2\": pd.Int64Dtype(),\n",
    "    \"Value_3\": pd.Int64Dtype(),\n",
    "    \"Value_4\": pd.Int64Dtype()\n",
    "})\n",
    "\n",
    "print(df)"
   ]
  },
  {
   "cell_type": "code",
   "execution_count": 46,
   "id": "b469ff32-ba80-498e-b37b-14a418dc5723",
   "metadata": {},
   "outputs": [
    {
     "data": {
      "text/html": [
       "<div>\n",
       "<style scoped>\n",
       "    .dataframe tbody tr th:only-of-type {\n",
       "        vertical-align: middle;\n",
       "    }\n",
       "\n",
       "    .dataframe tbody tr th {\n",
       "        vertical-align: top;\n",
       "    }\n",
       "\n",
       "    .dataframe thead th {\n",
       "        text-align: right;\n",
       "    }\n",
       "</style>\n",
       "<table border=\"1\" class=\"dataframe\">\n",
       "  <thead>\n",
       "    <tr style=\"text-align: right;\">\n",
       "      <th></th>\n",
       "      <th>Value_1</th>\n",
       "      <th>Value_2</th>\n",
       "      <th>Value_3</th>\n",
       "      <th>Value_4</th>\n",
       "    </tr>\n",
       "  </thead>\n",
       "  <tbody>\n",
       "    <tr>\n",
       "      <th>0</th>\n",
       "      <td>&lt;NA&gt;</td>\n",
       "      <td>&lt;NA&gt;</td>\n",
       "      <td>20</td>\n",
       "      <td>&lt;NA&gt;</td>\n",
       "    </tr>\n",
       "    <tr>\n",
       "      <th>1</th>\n",
       "      <td>14</td>\n",
       "      <td>24</td>\n",
       "      <td>16</td>\n",
       "      <td>2</td>\n",
       "    </tr>\n",
       "    <tr>\n",
       "      <th>2</th>\n",
       "      <td>35</td>\n",
       "      <td>54</td>\n",
       "      <td>&lt;NA&gt;</td>\n",
       "      <td>54</td>\n",
       "    </tr>\n",
       "    <tr>\n",
       "      <th>3</th>\n",
       "      <td>&lt;NA&gt;</td>\n",
       "      <td>3</td>\n",
       "      <td>3</td>\n",
       "      <td>3</td>\n",
       "    </tr>\n",
       "    <tr>\n",
       "      <th>4</th>\n",
       "      <td>1</td>\n",
       "      <td>&lt;NA&gt;</td>\n",
       "      <td>8</td>\n",
       "      <td>&lt;NA&gt;</td>\n",
       "    </tr>\n",
       "  </tbody>\n",
       "</table>\n",
       "</div>"
      ],
      "text/plain": [
       "   Value_1  Value_2  Value_3  Value_4\n",
       "0     <NA>     <NA>       20     <NA>\n",
       "1       14       24       16        2\n",
       "2       35       54     <NA>       54\n",
       "3     <NA>        3        3        3\n",
       "4        1     <NA>        8     <NA>"
      ]
     },
     "execution_count": 46,
     "metadata": {},
     "output_type": "execute_result"
    }
   ],
   "source": [
    "df_Fdata=df\n",
    "#Fill the missing value with average values in column Value1.\n",
    "df_Fdata['Value_1'].fillna(int(df_Fdata['Value_1'].mean()))\n",
    "# n : int, default 5 ; Number of rows to select.\n",
    "df_Fdata.head()\n",
    "# df_Fdata.mean(axis=0)\n",
    "# df_Fdata(['Value_1']).mean()"
   ]
  },
  {
   "cell_type": "code",
   "execution_count": 48,
   "id": "5b7eb830-22ab-462e-a2a4-e25e11882fd0",
   "metadata": {},
   "outputs": [
    {
     "ename": "TypeError",
     "evalue": "Invalid value '13.5' for dtype Int64",
     "output_type": "error",
     "traceback": [
      "\u001b[1;31m---------------------------------------------------------------------------\u001b[0m",
      "\u001b[1;31mTypeError\u001b[0m                                 Traceback (most recent call last)",
      "File \u001b[1;32m~\\AppData\\Roaming\\Python\\Python312\\site-packages\\pandas\\core\\internals\\blocks.py:2328\u001b[0m, in \u001b[0;36mExtensionBlock.fillna\u001b[1;34m(self, value, limit, inplace, downcast, using_cow, already_warned)\u001b[0m\n\u001b[0;32m   2327\u001b[0m \u001b[38;5;28;01mtry\u001b[39;00m:\n\u001b[1;32m-> 2328\u001b[0m     new_values \u001b[38;5;241m=\u001b[39m \u001b[38;5;28;43mself\u001b[39;49m\u001b[38;5;241;43m.\u001b[39;49m\u001b[43mvalues\u001b[49m\u001b[38;5;241;43m.\u001b[39;49m\u001b[43mfillna\u001b[49m\u001b[43m(\u001b[49m\n\u001b[0;32m   2329\u001b[0m \u001b[43m        \u001b[49m\u001b[43mvalue\u001b[49m\u001b[38;5;241;43m=\u001b[39;49m\u001b[43mvalue\u001b[49m\u001b[43m,\u001b[49m\u001b[43m \u001b[49m\u001b[43mmethod\u001b[49m\u001b[38;5;241;43m=\u001b[39;49m\u001b[38;5;28;43;01mNone\u001b[39;49;00m\u001b[43m,\u001b[49m\u001b[43m \u001b[49m\u001b[43mlimit\u001b[49m\u001b[38;5;241;43m=\u001b[39;49m\u001b[43mlimit\u001b[49m\u001b[43m,\u001b[49m\u001b[43m \u001b[49m\u001b[43mcopy\u001b[49m\u001b[38;5;241;43m=\u001b[39;49m\u001b[43mcopy\u001b[49m\n\u001b[0;32m   2330\u001b[0m \u001b[43m    \u001b[49m\u001b[43m)\u001b[49m\n\u001b[0;32m   2331\u001b[0m \u001b[38;5;28;01mexcept\u001b[39;00m \u001b[38;5;167;01mTypeError\u001b[39;00m:\n\u001b[0;32m   2332\u001b[0m     \u001b[38;5;66;03m# 3rd party EA that has not implemented copy keyword yet\u001b[39;00m\n",
      "File \u001b[1;32m~\\AppData\\Roaming\\Python\\Python312\\site-packages\\pandas\\core\\arrays\\masked.py:266\u001b[0m, in \u001b[0;36mBaseMaskedArray.fillna\u001b[1;34m(self, value, method, limit, copy)\u001b[0m\n\u001b[0;32m    265\u001b[0m             new_values \u001b[38;5;241m=\u001b[39m \u001b[38;5;28mself\u001b[39m[:]\n\u001b[1;32m--> 266\u001b[0m         \u001b[43mnew_values\u001b[49m\u001b[43m[\u001b[49m\u001b[43mmask\u001b[49m\u001b[43m]\u001b[49m \u001b[38;5;241m=\u001b[39m value\n\u001b[0;32m    267\u001b[0m \u001b[38;5;28;01melse\u001b[39;00m:\n",
      "File \u001b[1;32m~\\AppData\\Roaming\\Python\\Python312\\site-packages\\pandas\\core\\arrays\\masked.py:314\u001b[0m, in \u001b[0;36mBaseMaskedArray.__setitem__\u001b[1;34m(self, key, value)\u001b[0m\n\u001b[0;32m    313\u001b[0m \u001b[38;5;28;01melse\u001b[39;00m:\n\u001b[1;32m--> 314\u001b[0m     value \u001b[38;5;241m=\u001b[39m \u001b[38;5;28;43mself\u001b[39;49m\u001b[38;5;241;43m.\u001b[39;49m\u001b[43m_validate_setitem_value\u001b[49m\u001b[43m(\u001b[49m\u001b[43mvalue\u001b[49m\u001b[43m)\u001b[49m\n\u001b[0;32m    315\u001b[0m     \u001b[38;5;28mself\u001b[39m\u001b[38;5;241m.\u001b[39m_data[key] \u001b[38;5;241m=\u001b[39m value\n",
      "File \u001b[1;32m~\\AppData\\Roaming\\Python\\Python312\\site-packages\\pandas\\core\\arrays\\masked.py:305\u001b[0m, in \u001b[0;36mBaseMaskedArray._validate_setitem_value\u001b[1;34m(self, value)\u001b[0m\n\u001b[0;32m    301\u001b[0m     \u001b[38;5;66;03m# TODO: unsigned checks\u001b[39;00m\n\u001b[0;32m    302\u001b[0m \n\u001b[0;32m    303\u001b[0m \u001b[38;5;66;03m# Note: without the \"str\" here, the f-string rendering raises in\u001b[39;00m\n\u001b[0;32m    304\u001b[0m \u001b[38;5;66;03m#  py38 builds.\u001b[39;00m\n\u001b[1;32m--> 305\u001b[0m \u001b[38;5;28;01mraise\u001b[39;00m \u001b[38;5;167;01mTypeError\u001b[39;00m(\u001b[38;5;124mf\u001b[39m\u001b[38;5;124m\"\u001b[39m\u001b[38;5;124mInvalid value \u001b[39m\u001b[38;5;124m'\u001b[39m\u001b[38;5;132;01m{\u001b[39;00m\u001b[38;5;28mstr\u001b[39m(value)\u001b[38;5;132;01m}\u001b[39;00m\u001b[38;5;124m'\u001b[39m\u001b[38;5;124m for dtype \u001b[39m\u001b[38;5;132;01m{\u001b[39;00m\u001b[38;5;28mself\u001b[39m\u001b[38;5;241m.\u001b[39mdtype\u001b[38;5;132;01m}\u001b[39;00m\u001b[38;5;124m\"\u001b[39m)\n",
      "\u001b[1;31mTypeError\u001b[0m: Invalid value '13.5' for dtype Int64",
      "\nDuring handling of the above exception, another exception occurred:\n",
      "\u001b[1;31mTypeError\u001b[0m                                 Traceback (most recent call last)",
      "Cell \u001b[1;32mIn[48], line 3\u001b[0m\n\u001b[0;32m      1\u001b[0m df_mdn\u001b[38;5;241m=\u001b[39mdf\n\u001b[0;32m      2\u001b[0m \u001b[38;5;66;03m#Fill the missing values with the median value\u001b[39;00m\n\u001b[1;32m----> 3\u001b[0m \u001b[43mdf_mdn\u001b[49m\u001b[43m[\u001b[49m\u001b[38;5;124;43m'\u001b[39;49m\u001b[38;5;124;43mValue_2\u001b[39;49m\u001b[38;5;124;43m'\u001b[39;49m\u001b[43m]\u001b[49m\u001b[38;5;241;43m.\u001b[39;49m\u001b[43mfillna\u001b[49m\u001b[43m(\u001b[49m\u001b[43mdf_mdn\u001b[49m\u001b[43m[\u001b[49m\u001b[38;5;124;43m'\u001b[39;49m\u001b[38;5;124;43mValue_2\u001b[39;49m\u001b[38;5;124;43m'\u001b[39;49m\u001b[43m]\u001b[49m\u001b[38;5;241;43m.\u001b[39;49m\u001b[43mmedian\u001b[49m\u001b[43m(\u001b[49m\u001b[43m)\u001b[49m\u001b[43m,\u001b[49m\u001b[43m \u001b[49m\u001b[43minplace\u001b[49m\u001b[43m \u001b[49m\u001b[38;5;241;43m=\u001b[39;49m\u001b[43m \u001b[49m\u001b[38;5;28;43;01mTrue\u001b[39;49;00m\u001b[43m)\u001b[49m\n\u001b[0;32m      4\u001b[0m \u001b[38;5;66;03m#By default head() function will return first 5 rows from the dataset\u001b[39;00m\n\u001b[0;32m      5\u001b[0m df_mdn\u001b[38;5;241m.\u001b[39mhead()\n",
      "File \u001b[1;32m~\\AppData\\Roaming\\Python\\Python312\\site-packages\\pandas\\core\\generic.py:7349\u001b[0m, in \u001b[0;36mNDFrame.fillna\u001b[1;34m(self, value, method, axis, inplace, limit, downcast)\u001b[0m\n\u001b[0;32m   7342\u001b[0m     \u001b[38;5;28;01melse\u001b[39;00m:\n\u001b[0;32m   7343\u001b[0m         \u001b[38;5;28;01mraise\u001b[39;00m \u001b[38;5;167;01mTypeError\u001b[39;00m(\n\u001b[0;32m   7344\u001b[0m             \u001b[38;5;124m'\u001b[39m\u001b[38;5;124m\"\u001b[39m\u001b[38;5;124mvalue\u001b[39m\u001b[38;5;124m\"\u001b[39m\u001b[38;5;124m parameter must be a scalar, dict \u001b[39m\u001b[38;5;124m'\u001b[39m\n\u001b[0;32m   7345\u001b[0m             \u001b[38;5;124m\"\u001b[39m\u001b[38;5;124mor Series, but you passed a \u001b[39m\u001b[38;5;124m\"\u001b[39m\n\u001b[0;32m   7346\u001b[0m             \u001b[38;5;124mf\u001b[39m\u001b[38;5;124m'\u001b[39m\u001b[38;5;124m\"\u001b[39m\u001b[38;5;132;01m{\u001b[39;00m\u001b[38;5;28mtype\u001b[39m(value)\u001b[38;5;241m.\u001b[39m\u001b[38;5;18m__name__\u001b[39m\u001b[38;5;132;01m}\u001b[39;00m\u001b[38;5;124m\"\u001b[39m\u001b[38;5;124m'\u001b[39m\n\u001b[0;32m   7347\u001b[0m         )\n\u001b[1;32m-> 7349\u001b[0m     new_data \u001b[38;5;241m=\u001b[39m \u001b[38;5;28;43mself\u001b[39;49m\u001b[38;5;241;43m.\u001b[39;49m\u001b[43m_mgr\u001b[49m\u001b[38;5;241;43m.\u001b[39;49m\u001b[43mfillna\u001b[49m\u001b[43m(\u001b[49m\n\u001b[0;32m   7350\u001b[0m \u001b[43m        \u001b[49m\u001b[43mvalue\u001b[49m\u001b[38;5;241;43m=\u001b[39;49m\u001b[43mvalue\u001b[49m\u001b[43m,\u001b[49m\u001b[43m \u001b[49m\u001b[43mlimit\u001b[49m\u001b[38;5;241;43m=\u001b[39;49m\u001b[43mlimit\u001b[49m\u001b[43m,\u001b[49m\u001b[43m \u001b[49m\u001b[43minplace\u001b[49m\u001b[38;5;241;43m=\u001b[39;49m\u001b[43minplace\u001b[49m\u001b[43m,\u001b[49m\u001b[43m \u001b[49m\u001b[43mdowncast\u001b[49m\u001b[38;5;241;43m=\u001b[39;49m\u001b[43mdowncast\u001b[49m\n\u001b[0;32m   7351\u001b[0m \u001b[43m    \u001b[49m\u001b[43m)\u001b[49m\n\u001b[0;32m   7353\u001b[0m \u001b[38;5;28;01melif\u001b[39;00m \u001b[38;5;28misinstance\u001b[39m(value, (\u001b[38;5;28mdict\u001b[39m, ABCSeries)):\n\u001b[0;32m   7354\u001b[0m     \u001b[38;5;28;01mif\u001b[39;00m axis \u001b[38;5;241m==\u001b[39m \u001b[38;5;241m1\u001b[39m:\n",
      "File \u001b[1;32m~\\AppData\\Roaming\\Python\\Python312\\site-packages\\pandas\\core\\internals\\base.py:186\u001b[0m, in \u001b[0;36mDataManager.fillna\u001b[1;34m(self, value, limit, inplace, downcast)\u001b[0m\n\u001b[0;32m    182\u001b[0m \u001b[38;5;28;01mif\u001b[39;00m limit \u001b[38;5;129;01mis\u001b[39;00m \u001b[38;5;129;01mnot\u001b[39;00m \u001b[38;5;28;01mNone\u001b[39;00m:\n\u001b[0;32m    183\u001b[0m     \u001b[38;5;66;03m# Do this validation even if we go through one of the no-op paths\u001b[39;00m\n\u001b[0;32m    184\u001b[0m     limit \u001b[38;5;241m=\u001b[39m libalgos\u001b[38;5;241m.\u001b[39mvalidate_limit(\u001b[38;5;28;01mNone\u001b[39;00m, limit\u001b[38;5;241m=\u001b[39mlimit)\n\u001b[1;32m--> 186\u001b[0m \u001b[38;5;28;01mreturn\u001b[39;00m \u001b[38;5;28;43mself\u001b[39;49m\u001b[38;5;241;43m.\u001b[39;49m\u001b[43mapply_with_block\u001b[49m\u001b[43m(\u001b[49m\n\u001b[0;32m    187\u001b[0m \u001b[43m    \u001b[49m\u001b[38;5;124;43m\"\u001b[39;49m\u001b[38;5;124;43mfillna\u001b[39;49m\u001b[38;5;124;43m\"\u001b[39;49m\u001b[43m,\u001b[49m\n\u001b[0;32m    188\u001b[0m \u001b[43m    \u001b[49m\u001b[43mvalue\u001b[49m\u001b[38;5;241;43m=\u001b[39;49m\u001b[43mvalue\u001b[49m\u001b[43m,\u001b[49m\n\u001b[0;32m    189\u001b[0m \u001b[43m    \u001b[49m\u001b[43mlimit\u001b[49m\u001b[38;5;241;43m=\u001b[39;49m\u001b[43mlimit\u001b[49m\u001b[43m,\u001b[49m\n\u001b[0;32m    190\u001b[0m \u001b[43m    \u001b[49m\u001b[43minplace\u001b[49m\u001b[38;5;241;43m=\u001b[39;49m\u001b[43minplace\u001b[49m\u001b[43m,\u001b[49m\n\u001b[0;32m    191\u001b[0m \u001b[43m    \u001b[49m\u001b[43mdowncast\u001b[49m\u001b[38;5;241;43m=\u001b[39;49m\u001b[43mdowncast\u001b[49m\u001b[43m,\u001b[49m\n\u001b[0;32m    192\u001b[0m \u001b[43m    \u001b[49m\u001b[43musing_cow\u001b[49m\u001b[38;5;241;43m=\u001b[39;49m\u001b[43musing_copy_on_write\u001b[49m\u001b[43m(\u001b[49m\u001b[43m)\u001b[49m\u001b[43m,\u001b[49m\n\u001b[0;32m    193\u001b[0m \u001b[43m    \u001b[49m\u001b[43malready_warned\u001b[49m\u001b[38;5;241;43m=\u001b[39;49m\u001b[43m_AlreadyWarned\u001b[49m\u001b[43m(\u001b[49m\u001b[43m)\u001b[49m\u001b[43m,\u001b[49m\n\u001b[0;32m    194\u001b[0m \u001b[43m\u001b[49m\u001b[43m)\u001b[49m\n",
      "File \u001b[1;32m~\\AppData\\Roaming\\Python\\Python312\\site-packages\\pandas\\core\\internals\\managers.py:363\u001b[0m, in \u001b[0;36mBaseBlockManager.apply\u001b[1;34m(self, f, align_keys, **kwargs)\u001b[0m\n\u001b[0;32m    361\u001b[0m         applied \u001b[38;5;241m=\u001b[39m b\u001b[38;5;241m.\u001b[39mapply(f, \u001b[38;5;241m*\u001b[39m\u001b[38;5;241m*\u001b[39mkwargs)\n\u001b[0;32m    362\u001b[0m     \u001b[38;5;28;01melse\u001b[39;00m:\n\u001b[1;32m--> 363\u001b[0m         applied \u001b[38;5;241m=\u001b[39m \u001b[38;5;28;43mgetattr\u001b[39;49m\u001b[43m(\u001b[49m\u001b[43mb\u001b[49m\u001b[43m,\u001b[49m\u001b[43m \u001b[49m\u001b[43mf\u001b[49m\u001b[43m)\u001b[49m\u001b[43m(\u001b[49m\u001b[38;5;241;43m*\u001b[39;49m\u001b[38;5;241;43m*\u001b[39;49m\u001b[43mkwargs\u001b[49m\u001b[43m)\u001b[49m\n\u001b[0;32m    364\u001b[0m     result_blocks \u001b[38;5;241m=\u001b[39m extend_blocks(applied, result_blocks)\n\u001b[0;32m    366\u001b[0m out \u001b[38;5;241m=\u001b[39m \u001b[38;5;28mtype\u001b[39m(\u001b[38;5;28mself\u001b[39m)\u001b[38;5;241m.\u001b[39mfrom_blocks(result_blocks, \u001b[38;5;28mself\u001b[39m\u001b[38;5;241m.\u001b[39maxes)\n",
      "File \u001b[1;32m~\\AppData\\Roaming\\Python\\Python312\\site-packages\\pandas\\core\\internals\\blocks.py:2334\u001b[0m, in \u001b[0;36mExtensionBlock.fillna\u001b[1;34m(self, value, limit, inplace, downcast, using_cow, already_warned)\u001b[0m\n\u001b[0;32m   2331\u001b[0m \u001b[38;5;28;01mexcept\u001b[39;00m \u001b[38;5;167;01mTypeError\u001b[39;00m:\n\u001b[0;32m   2332\u001b[0m     \u001b[38;5;66;03m# 3rd party EA that has not implemented copy keyword yet\u001b[39;00m\n\u001b[0;32m   2333\u001b[0m     refs \u001b[38;5;241m=\u001b[39m \u001b[38;5;28;01mNone\u001b[39;00m\n\u001b[1;32m-> 2334\u001b[0m     new_values \u001b[38;5;241m=\u001b[39m \u001b[38;5;28;43mself\u001b[39;49m\u001b[38;5;241;43m.\u001b[39;49m\u001b[43mvalues\u001b[49m\u001b[38;5;241;43m.\u001b[39;49m\u001b[43mfillna\u001b[49m\u001b[43m(\u001b[49m\u001b[43mvalue\u001b[49m\u001b[38;5;241;43m=\u001b[39;49m\u001b[43mvalue\u001b[49m\u001b[43m,\u001b[49m\u001b[43m \u001b[49m\u001b[43mmethod\u001b[49m\u001b[38;5;241;43m=\u001b[39;49m\u001b[38;5;28;43;01mNone\u001b[39;49;00m\u001b[43m,\u001b[49m\u001b[43m \u001b[49m\u001b[43mlimit\u001b[49m\u001b[38;5;241;43m=\u001b[39;49m\u001b[43mlimit\u001b[49m\u001b[43m)\u001b[49m\n\u001b[0;32m   2335\u001b[0m     \u001b[38;5;66;03m# issue the warning *after* retrying, in case the TypeError\u001b[39;00m\n\u001b[0;32m   2336\u001b[0m     \u001b[38;5;66;03m#  was caused by an invalid fill_value\u001b[39;00m\n\u001b[0;32m   2337\u001b[0m     warnings\u001b[38;5;241m.\u001b[39mwarn(\n\u001b[0;32m   2338\u001b[0m         \u001b[38;5;66;03m# GH#53278\u001b[39;00m\n\u001b[0;32m   2339\u001b[0m         \u001b[38;5;124m\"\u001b[39m\u001b[38;5;124mExtensionArray.fillna added a \u001b[39m\u001b[38;5;124m'\u001b[39m\u001b[38;5;124mcopy\u001b[39m\u001b[38;5;124m'\u001b[39m\u001b[38;5;124m keyword in pandas \u001b[39m\u001b[38;5;124m\"\u001b[39m\n\u001b[1;32m   (...)\u001b[0m\n\u001b[0;32m   2345\u001b[0m         stacklevel\u001b[38;5;241m=\u001b[39mfind_stack_level(),\n\u001b[0;32m   2346\u001b[0m     )\n",
      "File \u001b[1;32m~\\AppData\\Roaming\\Python\\Python312\\site-packages\\pandas\\core\\arrays\\masked.py:266\u001b[0m, in \u001b[0;36mBaseMaskedArray.fillna\u001b[1;34m(self, value, method, limit, copy)\u001b[0m\n\u001b[0;32m    264\u001b[0m         \u001b[38;5;28;01melse\u001b[39;00m:\n\u001b[0;32m    265\u001b[0m             new_values \u001b[38;5;241m=\u001b[39m \u001b[38;5;28mself\u001b[39m[:]\n\u001b[1;32m--> 266\u001b[0m         \u001b[43mnew_values\u001b[49m\u001b[43m[\u001b[49m\u001b[43mmask\u001b[49m\u001b[43m]\u001b[49m \u001b[38;5;241m=\u001b[39m value\n\u001b[0;32m    267\u001b[0m \u001b[38;5;28;01melse\u001b[39;00m:\n\u001b[0;32m    268\u001b[0m     \u001b[38;5;28;01mif\u001b[39;00m copy:\n",
      "File \u001b[1;32m~\\AppData\\Roaming\\Python\\Python312\\site-packages\\pandas\\core\\arrays\\masked.py:314\u001b[0m, in \u001b[0;36mBaseMaskedArray.__setitem__\u001b[1;34m(self, key, value)\u001b[0m\n\u001b[0;32m    312\u001b[0m     \u001b[38;5;28mself\u001b[39m\u001b[38;5;241m.\u001b[39m_mask[key] \u001b[38;5;241m=\u001b[39m \u001b[38;5;28;01mTrue\u001b[39;00m\n\u001b[0;32m    313\u001b[0m \u001b[38;5;28;01melse\u001b[39;00m:\n\u001b[1;32m--> 314\u001b[0m     value \u001b[38;5;241m=\u001b[39m \u001b[38;5;28;43mself\u001b[39;49m\u001b[38;5;241;43m.\u001b[39;49m\u001b[43m_validate_setitem_value\u001b[49m\u001b[43m(\u001b[49m\u001b[43mvalue\u001b[49m\u001b[43m)\u001b[49m\n\u001b[0;32m    315\u001b[0m     \u001b[38;5;28mself\u001b[39m\u001b[38;5;241m.\u001b[39m_data[key] \u001b[38;5;241m=\u001b[39m value\n\u001b[0;32m    316\u001b[0m     \u001b[38;5;28mself\u001b[39m\u001b[38;5;241m.\u001b[39m_mask[key] \u001b[38;5;241m=\u001b[39m \u001b[38;5;28;01mFalse\u001b[39;00m\n",
      "File \u001b[1;32m~\\AppData\\Roaming\\Python\\Python312\\site-packages\\pandas\\core\\arrays\\masked.py:305\u001b[0m, in \u001b[0;36mBaseMaskedArray._validate_setitem_value\u001b[1;34m(self, value)\u001b[0m\n\u001b[0;32m    300\u001b[0m         \u001b[38;5;28;01mreturn\u001b[39;00m value\n\u001b[0;32m    301\u001b[0m     \u001b[38;5;66;03m# TODO: unsigned checks\u001b[39;00m\n\u001b[0;32m    302\u001b[0m \n\u001b[0;32m    303\u001b[0m \u001b[38;5;66;03m# Note: without the \"str\" here, the f-string rendering raises in\u001b[39;00m\n\u001b[0;32m    304\u001b[0m \u001b[38;5;66;03m#  py38 builds.\u001b[39;00m\n\u001b[1;32m--> 305\u001b[0m \u001b[38;5;28;01mraise\u001b[39;00m \u001b[38;5;167;01mTypeError\u001b[39;00m(\u001b[38;5;124mf\u001b[39m\u001b[38;5;124m\"\u001b[39m\u001b[38;5;124mInvalid value \u001b[39m\u001b[38;5;124m'\u001b[39m\u001b[38;5;132;01m{\u001b[39;00m\u001b[38;5;28mstr\u001b[39m(value)\u001b[38;5;132;01m}\u001b[39;00m\u001b[38;5;124m'\u001b[39m\u001b[38;5;124m for dtype \u001b[39m\u001b[38;5;132;01m{\u001b[39;00m\u001b[38;5;28mself\u001b[39m\u001b[38;5;241m.\u001b[39mdtype\u001b[38;5;132;01m}\u001b[39;00m\u001b[38;5;124m\"\u001b[39m)\n",
      "\u001b[1;31mTypeError\u001b[0m: Invalid value '13.5' for dtype Int64"
     ]
    }
   ],
   "source": [
    "df_mdn=df\n",
    "#Fill the missing values with the median value\n",
    "df_mdn['Value_2'].fillna(df_mdn['Value_2'].median(), inplace = True)\n",
    "#By default head() function will return first 5 rows from the dataset\n",
    "df_mdn.head()"
   ]
  },
  {
   "cell_type": "code",
   "execution_count": 49,
   "id": "8ed9509e-1f00-43a6-a378-bfa1cd651fbb",
   "metadata": {},
   "outputs": [
    {
     "name": "stdout",
     "output_type": "stream",
     "text": [
      "   Value_1  Value_2  Value_3  Value_4\n",
      "0     <NA>     <NA>       20     <NA>\n",
      "1       14       24       16        2\n",
      "2       35       54     <NA>       54\n",
      "3     <NA>        3        3        3\n",
      "4        1     <NA>        8     <NA>\n",
      "5       12     <NA>     <NA>       14\n",
      "6       74        2        2        3\n",
      "7       65       54       54     <NA>\n",
      "8     <NA>        3        3     <NA>\n",
      "9        1     <NA>     <NA>        6\n"
     ]
    },
    {
     "name": "stderr",
     "output_type": "stream",
     "text": [
      "C:\\Users\\yp901\\AppData\\Local\\Temp\\ipykernel_11692\\2212078292.py:4: FutureWarning: A value is trying to be set on a copy of a DataFrame or Series through chained assignment using an inplace method.\n",
      "The behavior will change in pandas 3.0. This inplace method will never work because the intermediate object on which we are setting values always behaves as a copy.\n",
      "\n",
      "For example, when doing 'df[col].method(value, inplace=True)', try using 'df.method({col: value}, inplace=True)' or df[col] = df[col].method(value) instead, to perform the operation inplace on the original object.\n",
      "\n",
      "\n",
      "  df_md['Value_3'].fillna(df_md['Value_3'].mode(), inplace = True)\n"
     ]
    },
    {
     "data": {
      "text/html": [
       "<div>\n",
       "<style scoped>\n",
       "    .dataframe tbody tr th:only-of-type {\n",
       "        vertical-align: middle;\n",
       "    }\n",
       "\n",
       "    .dataframe tbody tr th {\n",
       "        vertical-align: top;\n",
       "    }\n",
       "\n",
       "    .dataframe thead th {\n",
       "        text-align: right;\n",
       "    }\n",
       "</style>\n",
       "<table border=\"1\" class=\"dataframe\">\n",
       "  <thead>\n",
       "    <tr style=\"text-align: right;\">\n",
       "      <th></th>\n",
       "      <th>Value_1</th>\n",
       "      <th>Value_2</th>\n",
       "      <th>Value_3</th>\n",
       "      <th>Value_4</th>\n",
       "    </tr>\n",
       "  </thead>\n",
       "  <tbody>\n",
       "    <tr>\n",
       "      <th>0</th>\n",
       "      <td>&lt;NA&gt;</td>\n",
       "      <td>&lt;NA&gt;</td>\n",
       "      <td>20</td>\n",
       "      <td>&lt;NA&gt;</td>\n",
       "    </tr>\n",
       "    <tr>\n",
       "      <th>1</th>\n",
       "      <td>14</td>\n",
       "      <td>24</td>\n",
       "      <td>16</td>\n",
       "      <td>2</td>\n",
       "    </tr>\n",
       "    <tr>\n",
       "      <th>2</th>\n",
       "      <td>35</td>\n",
       "      <td>54</td>\n",
       "      <td>&lt;NA&gt;</td>\n",
       "      <td>54</td>\n",
       "    </tr>\n",
       "    <tr>\n",
       "      <th>3</th>\n",
       "      <td>&lt;NA&gt;</td>\n",
       "      <td>3</td>\n",
       "      <td>3</td>\n",
       "      <td>3</td>\n",
       "    </tr>\n",
       "    <tr>\n",
       "      <th>4</th>\n",
       "      <td>1</td>\n",
       "      <td>&lt;NA&gt;</td>\n",
       "      <td>8</td>\n",
       "      <td>&lt;NA&gt;</td>\n",
       "    </tr>\n",
       "    <tr>\n",
       "      <th>5</th>\n",
       "      <td>12</td>\n",
       "      <td>&lt;NA&gt;</td>\n",
       "      <td>&lt;NA&gt;</td>\n",
       "      <td>14</td>\n",
       "    </tr>\n",
       "  </tbody>\n",
       "</table>\n",
       "</div>"
      ],
      "text/plain": [
       "   Value_1  Value_2  Value_3  Value_4\n",
       "0     <NA>     <NA>       20     <NA>\n",
       "1       14       24       16        2\n",
       "2       35       54     <NA>       54\n",
       "3     <NA>        3        3        3\n",
       "4        1     <NA>        8     <NA>\n",
       "5       12     <NA>     <NA>       14"
      ]
     },
     "execution_count": 49,
     "metadata": {},
     "output_type": "execute_result"
    }
   ],
   "source": [
    "print(df)\n",
    "df_md=df\n",
    "#Filling the missing value with the maximum frequency element \n",
    "df_md['Value_3'].fillna(df_md['Value_3'].mode(), inplace = True)\n",
    "df_md.head(6)"
   ]
  },
  {
   "cell_type": "code",
   "execution_count": null,
   "id": "abd48ba6-8ea6-4a5a-9762-2d917bf888ae",
   "metadata": {},
   "outputs": [],
   "source": []
  }
 ],
 "metadata": {
  "kernelspec": {
   "display_name": "Python 3 (ipykernel)",
   "language": "python",
   "name": "python3"
  },
  "language_info": {
   "codemirror_mode": {
    "name": "ipython",
    "version": 3
   },
   "file_extension": ".py",
   "mimetype": "text/x-python",
   "name": "python",
   "nbconvert_exporter": "python",
   "pygments_lexer": "ipython3",
   "version": "3.12.6"
  }
 },
 "nbformat": 4,
 "nbformat_minor": 5
}
