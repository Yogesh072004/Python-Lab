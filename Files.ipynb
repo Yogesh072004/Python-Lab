{
 "cells": [
  {
   "cell_type": "markdown",
   "id": "12be9aef-97f2-4873-8e5c-467bd6da4a99",
   "metadata": {},
   "source": [
    "## Implementation of Files"
   ]
  },
  {
   "cell_type": "markdown",
   "id": "6f3dc46f-4410-4360-b787-aed73d19f9f5",
   "metadata": {},
   "source": [
    "<h3>creation of file,writing of file and reading of file</h3>"
   ]
  },
  {
   "cell_type": "code",
   "execution_count": 8,
   "id": "f94080aa-86c9-417a-aa27-520cc1d0f341",
   "metadata": {},
   "outputs": [
    {
     "name": "stdout",
     "output_type": "stream",
     "text": [
      "I'AM THE WORLD\n",
      "********************\n",
      "\n",
      "********************\n",
      "I'AM \n",
      "THE WORLD\n"
     ]
    }
   ],
   "source": [
    "f1=open(\"hello.txt\",\"w\")\n",
    "f1.write(\"I'AM THE WORLD\")\n",
    "f1.close()\n",
    "f1=open(\"hello.txt\",\"r\")\n",
    "print(f1.read()) #I'AM THE WORLD\n",
    "print(20*'*')\n",
    "print(f1.read(5)) #none (because file.read() is at last index)\n",
    "print(20*'*')\n",
    "f2=open(\"hello.txt\",\"r\")\n",
    "print(f2.read(5)) # prints upto 5th index\n",
    "print(f2.read()) #starts from 5th index"
   ]
  },
  {
   "cell_type": "code",
   "execution_count": 21,
   "id": "92749ecd-e1c9-4daa-8716-5d33f576219c",
   "metadata": {},
   "outputs": [
    {
     "name": "stdout",
     "output_type": "stream",
     "text": [
      "welcome\n",
      "\n",
      "To\n",
      "\n",
      "UI WORLD\n",
      "\n",
      "********************\n",
      "['welcome\\n', 'To\\n', 'UI WORLD\\n']\n",
      "----------------------------------------\n",
      "welcome\n",
      "\n",
      "To\n",
      "\n",
      "UI WORLD\n",
      "\n",
      "\n",
      "\n",
      "hello\n",
      "********************\n",
      "['welcome\\n', 'To\\n', 'UI WORLD\\n', '\\n', 'hello']\n"
     ]
    }
   ],
   "source": [
    "f1=open(\"mlines.txt\",\"w\")\n",
    "lines=[\"welcome\\n\",\"To\\n\",\"UI WORLD\\n\"]\n",
    "f1.writelines(lines)\n",
    "f1.close()\n",
    "f1=open(\"mlines.txt\",\"r\")\n",
    "print(f1.readline())\n",
    "print(f1.readline())\n",
    "print(f1.readline())\n",
    "print(20*'*')\n",
    "f2=open(\"mlines.txt\",\"r\")\n",
    "print(f2.readlines())\n",
    "f1=open(\"mlines.txt\",\"a\")\n",
    "f1.write(\"\\nhello\")\n",
    "f1.close()\n",
    "print(40*'-')\n",
    "f1=open(\"mlines.txt\",\"r\")\n",
    "print(f1.readline())\n",
    "print(f1.readline())\n",
    "print(f1.readline())\n",
    "print(f1.readline())\n",
    "print(f1.readline())\n",
    "\n",
    "print(20*'*')\n",
    "f2=open(\"mlines.txt\",\"r\")\n",
    "print(f2.readlines())"
   ]
  },
  {
   "cell_type": "markdown",
   "id": "4f02fdc0-430f-4cff-8a7f-e7e4479e079a",
   "metadata": {},
   "source": [
    "## File Handling"
   ]
  },
  {
   "cell_type": "code",
   "execution_count": 36,
   "id": "b8c68f43-00d2-411d-9991-012e2c28130d",
   "metadata": {},
   "outputs": [
    {
     "name": "stdout",
     "output_type": "stream",
     "text": [
      "[WindowsPath('C:/Users'), WindowsPath('C:/')]\n",
      "C:\\Users\\yp901\\Desktop\\NUMPY,PANDAS AND MATPLOTLIB\n",
      "C:\\Users\n",
      "C:\\\n",
      "False\n",
      "True\n"
     ]
    }
   ],
   "source": [
    "from pathlib import Path\n",
    "print(list(Path.home().parents)) #returns home of the user\n",
    "print(Path.cwd())#returns the path of current working directory\n",
    "for p in Path.home().parents:\n",
    "    print(p) #prints each parent directory\n",
    "fp=Path.home() /\"books/book1/Pythonbook.txt\"\n",
    "print(fp.exists())\n",
    "print(Path(\"hello.txt\").exists()) # uf file is there returns true"
   ]
  },
  {
   "cell_type": "code",
   "execution_count": 47,
   "id": "fcd55f81-da12-4a7e-be72-fba6bdd3839d",
   "metadata": {},
   "outputs": [
    {
     "name": "stdout",
     "output_type": "stream",
     "text": [
      "lib\\rack2\\ecbooks\n"
     ]
    }
   ],
   "source": [
    "mdir=Path(\"lib/rack2/ecbooks\")\n",
    "print(mdir)\n",
    "mdir.mkdir(parents=True,exist_ok=False) # if file not exists it create in particular directory"
   ]
  },
  {
   "cell_type": "code",
   "execution_count": 42,
   "id": "b27ab504-db27-461b-b4c4-ba21e12f54e0",
   "metadata": {},
   "outputs": [
    {
     "name": "stdout",
     "output_type": "stream",
     "text": [
      "True\n",
      "True\n"
     ]
    }
   ],
   "source": [
    "print(Path(\"lib/rack\").exists()) \n",
    "print(Path(\"lib/rack1\").exists()) "
   ]
  },
  {
   "cell_type": "code",
   "execution_count": 46,
   "id": "eb62fac5-cded-47c3-bbf8-4cab4e728435",
   "metadata": {},
   "outputs": [
    {
     "name": "stdout",
     "output_type": "stream",
     "text": [
      "True\n"
     ]
    }
   ],
   "source": [
    "filepath=mdir / \"abc.txt\"\n",
    "filepath.write_text(\"hi\")\n",
    "print(filepath.exists())"
   ]
  },
  {
   "cell_type": "code",
   "execution_count": 51,
   "id": "3e767201-d860-4681-b1f5-d63b03490494",
   "metadata": {},
   "outputs": [
    {
     "name": "stdout",
     "output_type": "stream",
     "text": [
      "False\n",
      "True\n",
      "True\n",
      "False\n"
     ]
    }
   ],
   "source": [
    "print(Path(\"hello.txt\").is_dir())\n",
    "print(Path(\"lib\").is_dir())\n",
    "print(Path(\"lib/rack\").is_dir())\n",
    "print(Path(\"lib/rack1/ecbooks/abc.txt\").is_dir())"
   ]
  },
  {
   "cell_type": "markdown",
   "id": "fd5ce252-387e-450c-a163-52d1b14b627c",
   "metadata": {},
   "source": [
    "## Diffrent types of file creations"
   ]
  },
  {
   "cell_type": "code",
   "execution_count": 59,
   "id": "f0ea41b5-12ea-467a-8394-4550e4d14ca4",
   "metadata": {},
   "outputs": [
    {
     "data": {
      "text/plain": [
       "True"
      ]
     },
     "execution_count": 59,
     "metadata": {},
     "output_type": "execute_result"
    }
   ],
   "source": [
    "ffp=Path(\"hello.html\")\n",
    "ffp.touch()\n",
    "ffp.exists()"
   ]
  },
  {
   "cell_type": "code",
   "execution_count": 60,
   "id": "939a69e6-cc27-4e82-bba2-0457a8aa0cb8",
   "metadata": {},
   "outputs": [
    {
     "data": {
      "text/plain": [
       "True"
      ]
     },
     "execution_count": 60,
     "metadata": {},
     "output_type": "execute_result"
    }
   ],
   "source": [
    "fpt=Path(\"python.pdf\")\n",
    "fpt.touch()\n",
    "fpt.exists()"
   ]
  },
  {
   "cell_type": "code",
   "execution_count": 66,
   "id": "9c027d7f-04ba-46d9-b303-936a384cb455",
   "metadata": {},
   "outputs": [
    {
     "name": "stdout",
     "output_type": "stream",
     "text": [
      "\\\n",
      "\\\n",
      "\\\n",
      "\\\n",
      "\\\n",
      "\\\n",
      "\\\n",
      "\\\n",
      "\\\n",
      "\\\n",
      "\\\n",
      "\\\n",
      "\\\n",
      "\\\n",
      "\\\n",
      "\\\n",
      "\\\n",
      "\\\n",
      "\\\n",
      "\\\n",
      "\\\n",
      "\\\n",
      "\\\n",
      "\\\n"
     ]
    }
   ],
   "source": [
    "fp=Path(\"/\")\n",
    "for p in fp.iterdir():\n",
    "    print(fp)"
   ]
  },
  {
   "cell_type": "code",
   "execution_count": 62,
   "id": "a4b1a83f-013a-4d50-8ddc-8cc2d6d4da78",
   "metadata": {},
   "outputs": [
    {
     "name": "stdout",
     "output_type": "stream",
     "text": [
      "lib\\rack\n",
      "lib\\rack1\n",
      "lib\\rack2\n"
     ]
    }
   ],
   "source": [
    "fp=Path(\"lib\")\n",
    "for p in fp.iterdir():\n",
    "    print(p)"
   ]
  },
  {
   "cell_type": "code",
   "execution_count": 63,
   "id": "2a8c913d-399b-4117-9d73-5a569fbd3588",
   "metadata": {},
   "outputs": [
    {
     "name": "stdout",
     "output_type": "stream",
     "text": [
      "lib\\rack1\\ecbooks\n"
     ]
    }
   ],
   "source": [
    "fp=Path(\"lib/rack1\")\n",
    "for p in fp.iterdir():\n",
    "    print(p)"
   ]
  },
  {
   "cell_type": "code",
   "execution_count": 64,
   "id": "9ebae26b-9dbd-4cbb-bedc-146bb863c021",
   "metadata": {},
   "outputs": [
    {
     "name": "stdout",
     "output_type": "stream",
     "text": [
      "lib\\rack1\\ecbooks\\.ipynb_checkpoints\n",
      "lib\\rack1\\ecbooks\\abc.txt\n"
     ]
    }
   ],
   "source": [
    "fp=Path(\"lib/rack1/ecbooks\")\n",
    "for p in fp.iterdir():\n",
    "    print(p)"
   ]
  },
  {
   "cell_type": "markdown",
   "id": "7b914564-9cef-48a5-adbe-72570bbb1f4d",
   "metadata": {},
   "source": [
    "## Reading a content to text file"
   ]
  },
  {
   "cell_type": "code",
   "execution_count": 67,
   "id": "8fb18874-38e7-4348-8715-7a643b253835",
   "metadata": {},
   "outputs": [
    {
     "name": "stdout",
     "output_type": "stream",
     "text": [
      "I'AM THE WORLD\n",
      "I am the gOD \n",
      "GOD IS GREAT"
     ]
    }
   ],
   "source": [
    "with open('hello.txt',mode=\"r\") as file:\n",
    "    for line in file:\n",
    "        print(line,end='')"
   ]
  },
  {
   "cell_type": "code",
   "execution_count": 69,
   "id": "0c914518-80ef-4333-811e-633e33a50627",
   "metadata": {},
   "outputs": [
    {
     "name": "stdout",
     "output_type": "stream",
     "text": [
      "hi\n",
      "dhoni\n",
      "d boss"
     ]
    }
   ],
   "source": [
    "with open('lib/rack1/ecbooks/abc.txt',mode=\"r\") as file:\n",
    "    for line in file:\n",
    "        print(line,end='')"
   ]
  },
  {
   "cell_type": "markdown",
   "id": "a3a022a5-d5a1-468d-8ff4-0dd7dfc1b678",
   "metadata": {},
   "source": [
    "## writing to file(without appending)"
   ]
  },
  {
   "cell_type": "code",
   "execution_count": 71,
   "id": "0e69d21b-41be-4de9-ade4-04837e403f88",
   "metadata": {},
   "outputs": [
    {
     "name": "stdout",
     "output_type": "stream",
     "text": [
      "File written successfully\n",
      "File written successfully\n"
     ]
    }
   ],
   "source": [
    "with open('hello.txt',mode=\"w\") as file:\n",
    "    file.write(\"hobbies:eating,bathing two days once, sorry 3 days once\")\n",
    "if(file!=\"\"):\n",
    "    print(\"File written successfully\")\n",
    "statements=[\"cse\\n\",\"ee\\n\"]\n",
    "with open('lib/rack1/ecbooks/abc.txt',mode=\"w\") as file:\n",
    "    file.writelines(statements)\n",
    "if(file!=\"\"):\n",
    "    print(\"File written successfully\")\n",
    "\n",
    "    \n",
    "\n"
   ]
  },
  {
   "cell_type": "markdown",
   "id": "fdb48b22-1b04-4c61-970c-b5321f7e9814",
   "metadata": {},
   "source": [
    "## writing to file without overriding"
   ]
  },
  {
   "cell_type": "code",
   "execution_count": 72,
   "id": "9c0124e7-aa7b-4995-a0a9-b5f61cff3f13",
   "metadata": {},
   "outputs": [
    {
     "name": "stdout",
     "output_type": "stream",
     "text": [
      "File written successfully\n",
      "File written successfully\n"
     ]
    }
   ],
   "source": [
    "with open('hello.txt',mode=\"a\") as file:\n",
    "    file.write(\"yen madakanitr pa nale exam aiti ansat ala\\n reels nodri hogri yen odtiri sumn\")\n",
    "if(file!=\"\"):\n",
    "    print(\"File written successfully\")\n",
    "statements=[\"insta\\n\",\"wp\\n\"]\n",
    "with open('lib/rack1/ecbooks/abc.txt',mode=\"a\") as file:\n",
    "    file.writelines(statements)\n",
    "if(file!=\"\"):\n",
    "    print(\"File written successfully\") \n",
    "\n",
    "\n",
    "    \n",
    "\n"
   ]
  },
  {
   "cell_type": "code",
   "execution_count": 1,
   "id": "3ff229f8-3676-48f0-9499-fa8442397efc",
   "metadata": {},
   "outputs": [
    {
     "name": "stdout",
     "output_type": "stream",
     "text": [
      "File written successfully\n"
     ]
    }
   ],
   "source": [
    "with open(\"numbers.txt\",\"w\") as file:\n",
    "    file.write(\"321\")\n",
    "if(file!=\"\"):\n",
    "    print(\"File written successfully\") \n",
    "    "
   ]
  },
  {
   "cell_type": "markdown",
   "id": "3a54fa03-f879-4513-9e9b-b336812cf606",
   "metadata": {},
   "source": [
    "## Reading from file"
   ]
  },
  {
   "cell_type": "code",
   "execution_count": 16,
   "id": "bd6afeda-06b2-4e84-965c-c3e5d567c7ed",
   "metadata": {},
   "outputs": [
    {
     "name": "stdout",
     "output_type": "stream",
     "text": [
      "54852\n",
      "848\n",
      "Total: 55700\n"
     ]
    }
   ],
   "source": [
    "with open(\"numbers.txt\", \"r\") as file:\n",
    "    total = 0\n",
    "    for line in file:\n",
    "        number = int(line.strip())  # Convert each stripped line to an integer\n",
    "        print(number)  # Display the number on a new line\n",
    "        total += number\n",
    "\n",
    "print(\"Total:\", total)"
   ]
  },
  {
   "cell_type": "code",
   "execution_count": 13,
   "id": "8eaddbdd-029a-483c-a909-5087f33392c3",
   "metadata": {},
   "outputs": [
    {
     "name": "stdout",
     "output_type": "stream",
     "text": [
      "44\n"
     ]
    }
   ],
   "source": [
    "with open(\"numbers.txt\",\"r\") as file:\n",
    "    content=file.read().strip()\n",
    "total=0\n",
    "for digit in content:\n",
    "    if digit.isdigit():\n",
    "        total+=int(digit)\n",
    "    \n",
    "print(total)    "
   ]
  },
  {
   "cell_type": "code",
   "execution_count": 20,
   "id": "3fcb490d-4807-42e6-a665-a599f4138e46",
   "metadata": {},
   "outputs": [
    {
     "name": "stdout",
     "output_type": "stream",
     "text": [
      "SDM123\n",
      "\n",
      "SDM748\n",
      "\n",
      "SDM\n",
      "\n"
     ]
    }
   ],
   "source": [
    "import fnmatch\n",
    "with open('search.txt','r') as file:\n",
    "    for line in file:\n",
    "        if fnmatch.fnmatch(line.strip(),'SDM*'):\n",
    "                   print(line)\n"
   ]
  },
  {
   "cell_type": "code",
   "execution_count": 26,
   "id": "99c4d738-344c-4ca9-a6ae-dc88fc40250e",
   "metadata": {},
   "outputs": [
    {
     "name": "stdout",
     "output_type": "stream",
     "text": [
      "True\n"
     ]
    }
   ],
   "source": [
    "from pathlib import Path\n",
    "csvfile=Path(\"Mydata.csv\")\n",
    "csvfile.touch()\n",
    "print(csvfile.exists())\n"
   ]
  },
  {
   "cell_type": "code",
   "execution_count": 29,
   "id": "3b98631c-188f-4d2a-9191-093b4effb601",
   "metadata": {},
   "outputs": [],
   "source": [
    "import csv\n",
    "data=[['IA','CIE','SEE'],['20','30','65'],\n",
    "      ['28','50','65'],['2450','580','65']]\n",
    "with open('Mydata.csv','w') as file:\n",
    "    writer=csv.writer(file)\n",
    "    writer.writerows(data)\n",
    "      "
   ]
  },
  {
   "cell_type": "code",
   "execution_count": 32,
   "id": "7e6e5231-5839-438d-ab55-4941da3adac1",
   "metadata": {},
   "outputs": [
    {
     "name": "stdout",
     "output_type": "stream",
     "text": [
      "['IA', 'CIE', 'SEE']\n",
      "['20', '30', '65']\n",
      "['28', '50', '65']\n",
      "['2450', '580', '65']\n"
     ]
    }
   ],
   "source": [
    "import csv\n",
    "\n",
    "with open('Mydata.csv', 'r', encoding='utf-8') as file:\n",
    "    reader = csv.reader(file)\n",
    "    for row in reader:\n",
    "        if row:  # Only process non-empty rows\n",
    "            print(row)"
   ]
  },
  {
   "cell_type": "code",
   "execution_count": null,
   "id": "f3898c1b-08d3-47f0-a792-7f916ef2d8b5",
   "metadata": {},
   "outputs": [],
   "source": []
  }
 ],
 "metadata": {
  "kernelspec": {
   "display_name": "Python 3 (ipykernel)",
   "language": "python",
   "name": "python3"
  },
  "language_info": {
   "codemirror_mode": {
    "name": "ipython",
    "version": 3
   },
   "file_extension": ".py",
   "mimetype": "text/x-python",
   "name": "python",
   "nbconvert_exporter": "python",
   "pygments_lexer": "ipython3",
   "version": "3.12.6"
  }
 },
 "nbformat": 4,
 "nbformat_minor": 5
}
