{
 "cells": [
  {
   "cell_type": "markdown",
   "id": "68199309-ee18-45b6-9ed2-e1fd1890fed7",
   "metadata": {},
   "source": [
    "<h1>FILE HANDLING</h1>"
   ]
  },
  {
   "cell_type": "code",
   "execution_count": 5,
   "id": "2c0c580b-f8c9-43a0-a8f6-e25b92bf0f6d",
   "metadata": {},
   "outputs": [
    {
     "data": {
      "text/plain": [
       "[PosixPath('/home'), PosixPath('/')]"
      ]
     },
     "execution_count": 5,
     "metadata": {},
     "output_type": "execute_result"
    }
   ],
   "source": [
    "from pathlib import Paths\n"
   ]
  },
  {
   "cell_type": "code",
   "execution_count": 6,
   "id": "3309f361-4cba-4463-b284-0f3c55203a46",
   "metadata": {},
   "outputs": [
    {
     "data": {
      "text/plain": [
       "[PosixPath('/home'), PosixPath('/')]"
      ]
     },
     "execution_count": 6,
     "metadata": {},
     "output_type": "execute_result"
    }
   ],
   "source": [
    "list(Path.home().parents)"
   ]
  },
  {
   "cell_type": "code",
   "execution_count": 14,
   "id": "77b21e78-c535-41ed-bb0e-4bcd6e84a2d8",
   "metadata": {},
   "outputs": [
    {
     "name": "stdout",
     "output_type": "stream",
     "text": [
      "/home\n",
      "/\n"
     ]
    }
   ],
   "source": [
    "for p in Path.home().parents:\n",
    "    print(p)"
   ]
  },
  {
   "cell_type": "code",
   "execution_count": 10,
   "id": "1502a274-9f06-4e6e-b32a-3a32f745c927",
   "metadata": {},
   "outputs": [
    {
     "name": "stdout",
     "output_type": "stream",
     "text": [
      "False\n"
     ]
    }
   ],
   "source": [
    "fp=Path.home() /\"books/book1/PythonBook1.txt\"\n",
    "print(fp.exists())"
   ]
  },
  {
   "cell_type": "code",
   "execution_count": 13,
   "id": "6a009ca3-b5bc-42bf-b03c-ded8d36ac550",
   "metadata": {},
   "outputs": [
    {
     "name": "stdout",
     "output_type": "stream",
     "text": [
      "True\n"
     ]
    }
   ],
   "source": [
    "fp=Path.home() /\"abc.txt\"\n",
    "print(fp.exists())"
   ]
  },
  {
   "cell_type": "code",
   "execution_count": 21,
   "id": "49fed74e-18c1-45c3-9ae2-34b228a64565",
   "metadata": {},
   "outputs": [
    {
     "name": "stdout",
     "output_type": "stream",
     "text": [
      "lib/rack/eebooks\n"
     ]
    },
    {
     "ename": "FileExistsError",
     "evalue": "[Errno 17] File exists: 'lib/rack/eebooks'",
     "output_type": "error",
     "traceback": [
      "\u001b[0;31m---------------------------------------------------------------------------\u001b[0m",
      "\u001b[0;31mFileExistsError\u001b[0m                           Traceback (most recent call last)",
      "Cell \u001b[0;32mIn[21], line 3\u001b[0m\n\u001b[1;32m      1\u001b[0m mudir\u001b[38;5;241m=\u001b[39mPath(\u001b[38;5;124m\"\u001b[39m\u001b[38;5;124mlib/rack/eebooks\u001b[39m\u001b[38;5;124m\"\u001b[39m)\n\u001b[1;32m      2\u001b[0m \u001b[38;5;28mprint\u001b[39m(mudir)\n\u001b[0;32m----> 3\u001b[0m \u001b[43mmudir\u001b[49m\u001b[38;5;241;43m.\u001b[39;49m\u001b[43mmkdir\u001b[49m\u001b[43m(\u001b[49m\u001b[43mparents\u001b[49m\u001b[38;5;241;43m=\u001b[39;49m\u001b[38;5;28;43;01mTrue\u001b[39;49;00m\u001b[43m,\u001b[49m\u001b[43mexist_ok\u001b[49m\u001b[38;5;241;43m=\u001b[39;49m\u001b[38;5;28;43;01mFalse\u001b[39;49;00m\u001b[43m)\u001b[49m\n",
      "File \u001b[0;32m/opt/tljh/user/lib/python3.10/pathlib.py:1175\u001b[0m, in \u001b[0;36mPath.mkdir\u001b[0;34m(self, mode, parents, exist_ok)\u001b[0m\n\u001b[1;32m   1171\u001b[0m \u001b[38;5;250m\u001b[39m\u001b[38;5;124;03m\"\"\"\u001b[39;00m\n\u001b[1;32m   1172\u001b[0m \u001b[38;5;124;03mCreate a new directory at this given path.\u001b[39;00m\n\u001b[1;32m   1173\u001b[0m \u001b[38;5;124;03m\"\"\"\u001b[39;00m\n\u001b[1;32m   1174\u001b[0m \u001b[38;5;28;01mtry\u001b[39;00m:\n\u001b[0;32m-> 1175\u001b[0m     \u001b[38;5;28;43mself\u001b[39;49m\u001b[38;5;241;43m.\u001b[39;49m\u001b[43m_accessor\u001b[49m\u001b[38;5;241;43m.\u001b[39;49m\u001b[43mmkdir\u001b[49m\u001b[43m(\u001b[49m\u001b[38;5;28;43mself\u001b[39;49m\u001b[43m,\u001b[49m\u001b[43m \u001b[49m\u001b[43mmode\u001b[49m\u001b[43m)\u001b[49m\n\u001b[1;32m   1176\u001b[0m \u001b[38;5;28;01mexcept\u001b[39;00m \u001b[38;5;167;01mFileNotFoundError\u001b[39;00m:\n\u001b[1;32m   1177\u001b[0m     \u001b[38;5;28;01mif\u001b[39;00m \u001b[38;5;129;01mnot\u001b[39;00m parents \u001b[38;5;129;01mor\u001b[39;00m \u001b[38;5;28mself\u001b[39m\u001b[38;5;241m.\u001b[39mparent \u001b[38;5;241m==\u001b[39m \u001b[38;5;28mself\u001b[39m:\n",
      "\u001b[0;31mFileExistsError\u001b[0m: [Errno 17] File exists: 'lib/rack/eebooks'"
     ]
    }
   ],
   "source": [
    "mudir=Path(\"lib/rack/eebooks\")\n",
    "print(mudir)\n",
    "mudir.mkdir(parents=True,exist_ok=False) #if already file exist .FALSE raises Exception"
   ]
  },
  {
   "cell_type": "code",
   "execution_count": 22,
   "id": "3c8fe9c8-89d9-45b6-a6c1-cbb796db2df3",
   "metadata": {},
   "outputs": [
    {
     "name": "stdout",
     "output_type": "stream",
     "text": [
      "lib/rack/ecbooks\n"
     ]
    }
   ],
   "source": [
    "mudir=Path(\"lib/rack/ecbooks\")\n",
    "print(mudir)\n",
    "mudir.mkdir(parents=True,exist_ok=False) #if file not exist then it create it in particular directory"
   ]
  },
  {
   "cell_type": "code",
   "execution_count": 24,
   "id": "ffa728da-5f18-42ff-9d13-c5838ba5be2f",
   "metadata": {},
   "outputs": [
    {
     "data": {
      "text/plain": [
       "True"
      ]
     },
     "execution_count": 24,
     "metadata": {},
     "output_type": "execute_result"
    }
   ],
   "source": [
    "LABDIR=Path(\"lib/rack\")\n",
    "LABDIR.exists()"
   ]
  },
  {
   "cell_type": "code",
   "execution_count": 25,
   "id": "a4e1c4ee-f15b-459a-8a4c-06ea624137d4",
   "metadata": {},
   "outputs": [
    {
     "data": {
      "text/plain": [
       "False"
      ]
     },
     "execution_count": 25,
     "metadata": {},
     "output_type": "execute_result"
    }
   ],
   "source": [
    "LABDIR=Path(\"lib/rack1\")\n",
    "LABDIR.exists()"
   ]
  },
  {
   "cell_type": "code",
   "execution_count": 26,
   "id": "08017945-87fc-4b1d-af75-3ce86529c6dc",
   "metadata": {},
   "outputs": [
    {
     "name": "stdout",
     "output_type": "stream",
     "text": [
      "False\n",
      "True\n"
     ]
    }
   ],
   "source": [
    "diretype=Path(\"abc.txt\")\n",
    "diretype_existing=Path(\"lib\")\n",
    "print(diretype.is_dir())\n",
    "print(diretype_existing.is_dir())"
   ]
  },
  {
   "cell_type": "code",
   "execution_count": 29,
   "id": "421c639b-a0f0-4ed4-99d3-c4ef4550bfe7",
   "metadata": {},
   "outputs": [
    {
     "name": "stdout",
     "output_type": "stream",
     "text": [
      "False\n",
      "False\n"
     ]
    }
   ],
   "source": [
    "diretype=Path(\"abc.txt\") \n",
    "diretype_existing=Path(\"lib1\")\n",
    "print(diretype.is_dir())\n",
    "print(diretype_existing.is_dir())"
   ]
  },
  {
   "cell_type": "code",
   "execution_count": 30,
   "id": "e6412caa-e402-4db0-bcd2-a728f5c77018",
   "metadata": {},
   "outputs": [
    {
     "name": "stdout",
     "output_type": "stream",
     "text": [
      "False\n",
      "True\n"
     ]
    }
   ],
   "source": [
    "diretype=Path(\"abc.txt\")\n",
    "diretype_existing=Path(\"lib/rack\")\n",
    "print(diretype.is_dir())\n",
    "print(diretype_existing.is_dir())"
   ]
  },
  {
   "cell_type": "code",
   "execution_count": 33,
   "id": "f7fcf55d-cac3-4a74-9085-bd95b586e078",
   "metadata": {},
   "outputs": [
    {
     "name": "stdout",
     "output_type": "stream",
     "text": [
      "False\n",
      "False\n"
     ]
    }
   ],
   "source": [
    "diretype=Path(\"abc.txt\")\n",
    "diretype_existing=Path(\"lib/rack/csebooks/hello.txt\")\n",
    "print(diretype.is_dir())\n",
    "print(diretype_existing.is_dir())"
   ]
  },
  {
   "cell_type": "code",
   "execution_count": 34,
   "id": "55a463df-7de8-42b5-a38f-3ec9d2e954b6",
   "metadata": {},
   "outputs": [
    {
     "data": {
      "text/plain": [
       "True"
      ]
     },
     "execution_count": 34,
     "metadata": {},
     "output_type": "execute_result"
    }
   ],
   "source": [
    "ffp=Path(\"hello.html\")\n",
    "ffp.touch()\n",
    "ffp.exists()"
   ]
  },
  {
   "cell_type": "code",
   "execution_count": 38,
   "id": "d0265267-1aa7-469e-8909-10207d80d064",
   "metadata": {},
   "outputs": [
    {
     "data": {
      "text/plain": [
       "True"
      ]
     },
     "execution_count": 38,
     "metadata": {},
     "output_type": "execute_result"
    }
   ],
   "source": [
    "ffp=Path(\"hello.html\")\n",
    "ffp.touch()\n",
    "ffp.exists()"
   ]
  },
  {
   "cell_type": "code",
   "execution_count": 40,
   "id": "0a4fa01d-5ae6-4049-8c45-a1f2eaaeacdd",
   "metadata": {},
   "outputs": [
    {
     "data": {
      "text/plain": [
       "True"
      ]
     },
     "execution_count": 40,
     "metadata": {},
     "output_type": "execute_result"
    }
   ],
   "source": [
    "ffp=Path(\"py.pdf\")\n",
    "ffp.touch()\n",
    "ffp.exists()"
   ]
  },
  {
   "cell_type": "code",
   "execution_count": 45,
   "id": "1b25bcff-0666-4fd9-b3e9-5513d1b2f786",
   "metadata": {},
   "outputs": [
    {
     "name": "stdout",
     "output_type": "stream",
     "text": [
      "/root\n",
      "/lib64\n",
      "/proc\n",
      "/snap\n",
      "/mnt\n",
      "/usr\n",
      "/var\n",
      "/cdrom\n",
      "/bin\n",
      "/sbin\n",
      "/home\n",
      "/libx32\n",
      "/swapfile\n",
      "/lost+found\n",
      "/boot\n",
      "/etc\n",
      "/srv\n",
      "/opt\n",
      "/run\n",
      "/lib\n",
      "/dev\n",
      "/sys\n",
      "/media\n",
      "/lib32\n",
      "/tmp\n"
     ]
    }
   ],
   "source": [
    "fpt=Path(\"/\")\n",
    "for p in fpt.iterdir():\n",
    "    print(p)"
   ]
  },
  {
   "cell_type": "code",
   "execution_count": 47,
   "id": "973e9636-c65d-41d6-8ce7-9e6eceab6fb9",
   "metadata": {},
   "outputs": [
    {
     "name": "stdout",
     "output_type": "stream",
     "text": [
      "lib/rack\n"
     ]
    }
   ],
   "source": [
    "fpt=Path(\"lib\")\n",
    "for p in fpt.iterdir():\n",
    "    print(p)"
   ]
  },
  {
   "cell_type": "code",
   "execution_count": 48,
   "id": "8c8162c4-5910-4fea-a74a-d2704eac1c0b",
   "metadata": {},
   "outputs": [
    {
     "name": "stdout",
     "output_type": "stream",
     "text": [
      "lib/rack/eebooks\n",
      "lib/rack/ecbooks\n",
      "lib/rack/csebooks\n"
     ]
    }
   ],
   "source": [
    "fpt=Path(\"lib/rack\")\n",
    "for p in fpt.iterdir():\n",
    "    print(p)"
   ]
  },
  {
   "cell_type": "code",
   "execution_count": 49,
   "id": "92fea11d-0b15-447f-83e3-a0f0eff9fe26",
   "metadata": {},
   "outputs": [
    {
     "name": "stdout",
     "output_type": "stream",
     "text": [
      "lib/rack/csebooks/hello.txt\n",
      "lib/rack/csebooks/.ipynb_checkpoints\n"
     ]
    }
   ],
   "source": [
    "fpt=Path(\"lib/rack/csebooks\")\n",
    "for p in fpt.iterdir():\n",
    "    print(p)"
   ]
  },
  {
   "cell_type": "code",
   "execution_count": 52,
   "id": "e5077528-9cce-40ab-a32e-fa18f522ce8e",
   "metadata": {},
   "outputs": [
    {
     "name": "stdout",
     "output_type": "stream",
     "text": [
      "/home/jupyter-22cs070\n",
      "/home/jupyter-22cs003\n",
      "/home/jupyter-21cs111\n",
      "/home/jupyter-22cs403\n",
      "/home/jupyter-22cs123\n",
      "/home/jupyter-22cs124\n",
      "/home/jupyter-22cs027\n",
      "/home/jupyter-22cs065\n",
      "/home/jupyter-22cs115\n",
      "/home/jupyter-22cs408\n",
      "/home/jupyter-22cs046\n",
      "/home/jupyter-22cs079\n",
      "/home/jupyter-22cs131\n",
      "/home/jupyter-22cs121\n",
      "/home/jupyter-21cs050\n",
      "/home/jupyter-21cs123\n",
      "/home/jupyter-21cs096\n",
      "/home/jupyter-22cs044\n",
      "/home/jupyter-22cs407\n",
      "/home/jupyter-22cs084\n",
      "/home/jupyter-21cs053\n",
      "/home/jupyter-22cs122\n",
      "/home/jupyter-23cs411\n",
      "/home/jupyter-22cs090\n",
      "/home/jupyter-22cs087\n",
      "/home/jupyter-22cs091\n",
      "/home/jupyter-21cs084\n",
      "/home/jupyter-22cs007\n",
      "/home/jupyter-21cs059\n",
      "/home/jupyter-21cs081\n",
      "/home/jupyter-21cs105\n",
      "/home/jupyter-22cs104\n",
      "/home/jupyter-22cs042\n",
      "/home/jupyter-23cs401\n",
      "/home/jupyter-22cs064\n",
      "/home/jupyter-21cs064\n",
      "/home/jupyter-22cs089\n",
      "/home/jupyter-21cs028\n",
      "/home/jupyter-23cs404\n",
      "/home/jupyter-22cs002\n",
      "/home/jupyter-21cs086\n",
      "/home/jupyter-22cs026\n",
      "/home/jupyter-22cs099\n",
      "/home/jupyter-22cs058\n",
      "/home/jupyter-22cs060\n",
      "/home/jupyter-srb\n",
      "/home/jupyter-22cs055\n",
      "/home/jupyter-22cs080\n",
      "/home/jupyter-21cs005\n",
      "/home/jupyter-22cs038\n",
      "/home/jupyter-21cs033\n",
      "/home/jupyter-21cs057\n",
      "/home/jupyter-22cs045\n",
      "/home/jupyter-vk\n",
      "/home/jupyter-22cs404\n",
      "/home/jupyter-21cs043\n",
      "/home/jupyter-21cs065\n",
      "/home/jupyter-21cs009\n",
      "/home/jupyter-21cs075\n",
      "/home/jupyter-22cs025\n",
      "/home/jupyter-21cs062\n",
      "/home/jupyter-21cs056\n",
      "/home/jupyter-21cs118\n",
      "/home/jupyter-22cs035\n",
      "/home/jupyter-21cs107\n",
      "/home/jupyter-21cs037\n",
      "/home/jupyter-23cs400\n",
      "/home/jupyter-22cs103\n",
      "/home/jupyter-21cs119\n",
      "/home/jupyter-21cs026\n",
      "/home/jupyter-21cs093\n",
      "/home/jupyter-21cs042\n",
      "/home/jupyter-23cs403\n",
      "/home/jupyter-22cs069\n",
      "/home/jupyter-pratap\n",
      "/home/jupyter-21cs044\n",
      "/home/jupyter-23cs406\n",
      "/home/jupyter-21cs076\n",
      "/home/jupyter-21cs021\n",
      "/home/jupyter-21cs098\n",
      "/home/jupyter-22cs041\n",
      "/home/jupyter-21cs069\n",
      "/home/jupyter-21cs052\n",
      "/home/jupyter-22cs062\n",
      "/home/jupyter-22cs059\n",
      "/home/jupyter-22cs006\n",
      "/home/jupyter-21cs082\n",
      "/home/jupyter-22cs022\n",
      "/home/jupyter-21cs038\n",
      "/home/jupyter-21cs036\n",
      "/home/jupyter-23cs408\n",
      "/home/jupyter-22cs110\n",
      "/home/jupyter-22cs093\n",
      "/home/jupyter-21cs113\n",
      "/home/jupyter-22cs033\n",
      "/home/jupyter-21cs034\n",
      "/home/jupyter-21cs060\n",
      "/home/jupyter-22cs076\n",
      "/home/jupyter-21cs058\n",
      "/home/jupyter-21cs072\n",
      "/home/jupyter-21cs031\n",
      "/home/jupyter-21cs003\n",
      "/home/jupyter-22cs132\n",
      "/home/jupyter-21cs039\n",
      "/home/jupyter-21cs080\n",
      "/home/jupyter-22cs128\n",
      "/home/jupyter-22cs040\n",
      "/home/jupyter-21cs017\n",
      "/home/jupyter-22cs105\n",
      "/home/jupyter-22cs056\n",
      "/home/jupyter-21cs006\n",
      "/home/jupyter-21cs091\n",
      "/home/jupyter-21cs073\n",
      "/home/jupyter-21cs001\n",
      "/home/jupyter-21cs061\n",
      "/home/jupyter-22cs112\n",
      "/home/jupyter-22cs133\n",
      "/home/jupyter-21cs007\n",
      "/home/jupyter-21cs078\n",
      "/home/jupyter-21cs016\n",
      "/home/jupyter-21cs083\n",
      "/home/jupyter-22cs071\n",
      "/home/jupyter-22cs108\n",
      "/home/jupyter-22cs119\n",
      "/home/jupyter-22cs066\n",
      "/home/jupyter-22cs013\n",
      "/home/jupyter-22cs061\n",
      "/home/jupyter-21cs114\n",
      "/home/jupyter-21cs112\n",
      "/home/jupyter-21cs049\n",
      "/home/jupyter-21cs079\n",
      "/home/jupyter-23cs410\n",
      "/home/jupyter-22cs098\n",
      "/home/jupyter-22cs014\n",
      "/home/jupyter-22cs405\n",
      "/home/jupyter-23cs405\n",
      "/home/jupyter-22cs109\n",
      "/home/jupyter-21cs120\n",
      "/home/jupyter-22cs031\n",
      "/home/jupyter-21cs013\n",
      "/home/jupyter-21cs122\n",
      "/home/jupyter-21cs047\n",
      "/home/jupyter-21cs090\n",
      "/home/jupyter-iru\n",
      "/home/jupyter-21cs055\n",
      "/home/jupyter-21cs029\n",
      "/home/jupyter-22cs075\n",
      "/home/jupyter-22cs019\n",
      "/home/jupyter-22cs410\n",
      "/home/jupyter-22cs411\n",
      "/home/jupyter-sdmcet\n",
      "/home/jupyter-22cs009\n",
      "/home/jupyter-22cs120\n",
      "/home/jupyter-21cs027\n",
      "/home/jupyter-21cs019\n",
      "/home/jupyter-21cs101\n",
      "/home/jupyter-21cs002\n",
      "/home/jupyter-22cs074\n",
      "/home/jupyter-22cs117\n",
      "/home/jupyter-22cs072\n",
      "/home/jupyter-21cs048\n",
      "/home/jupyter-21cs012\n",
      "/home/jupyter-21cs124\n",
      "/home/jupyter-20cs049\n",
      "/home/jupyter-21cs117\n",
      "/home/jupyter-22cs073\n",
      "/home/jupyter-22cs029\n",
      "/home/jupyter-21cs046\n",
      "/home/jupyter-22cs020\n",
      "/home/jupyter-22cs034\n",
      "/home/jupyter-21cs024\n",
      "/home/jupyter-22cs400\n",
      "/home/jupyter-22cs094\n",
      "/home/jupyter-21cs074\n",
      "/home/jupyter-22cs081\n",
      "/home/jupyter-21cs088\n",
      "/home/jupyter-21cs067\n",
      "/home/jupyter-22cs047\n",
      "/home/jupyter-sagar\n",
      "/home/jupyter-21cs097\n",
      "/home/jupyter-21cs020\n",
      "/home/jupyter-21cs116\n",
      "/home/jupyter-21cs092\n",
      "/home/jupyter-21cs015\n",
      "/home/jupyter-21cs025\n",
      "/home/jupyter-21cs041\n",
      "/home/jupyter-21cs094\n",
      "/home/jupyter-21cs125\n",
      "/home/jupyter-22cs116\n",
      "/home/jupyter-22cs077\n",
      "/home/jupyter-21cs004\n",
      "/home/jupyter-21cs109\n",
      "/home/jupyter-22cs017\n",
      "/home/jupyter-22cs129\n",
      "/home/jupyter-22cs023\n",
      "/home/jupyter-22cs401\n",
      "/home/jupyter-23cs409\n",
      "/home/jupyter-22cs086\n",
      "/home/jupyter-22cs088\n",
      "/home/jupyter-22cs102\n",
      "/home/jupyter-22cs012\n",
      "/home/jupyter-22cs048\n",
      "/home/jupyter-22cs015\n",
      "/home/jupyter-22cs036\n",
      "/home/jupyter-22cs101\n",
      "/home/jupyter-22cs092\n",
      "/home/jupyter-22cs043\n",
      "/home/jupyter-21cs102\n",
      "/home/jupyter-22cs100\n",
      "/home/jupyter-22cs078\n",
      "/home/jupyter-22cs024\n",
      "/home/jupyter-22cs111\n",
      "/home/jupyter-22cs004\n",
      "/home/jupyter-22cs406\n",
      "/home/sdmcet\n",
      "/home/jupyter-21cs022\n",
      "/home/jupyter-21cs126\n",
      "/home/jupyter-21cs008\n",
      "/home/jupyter-22cs028\n",
      "/home/jupyter-22cs037\n",
      "/home/jupyter-22cs106\n",
      "/home/jupyter-21cs023\n",
      "/home/jupyter-22cs053\n",
      "/home/jupyter-22cs010\n",
      "/home/jupyter-21cs087\n",
      "/home/jupyter-21cs032\n",
      "/home/jupyter-22cs050\n",
      "/home/jupyter-22cs052\n",
      "/home/jupyter-21cs011\n",
      "/home/jupyter-22cs032\n",
      "/home/jupyter-22cs107\n",
      "/home/jupyter-yashodha\n",
      "/home/jupyter-21cs108\n",
      "/home/jupyter-22cs097\n",
      "/home/jupyter-21cs121\n",
      "/home/jupyter-22cs127\n",
      "/home/jupyter-22cs039\n",
      "/home/jupyter-22cs125\n",
      "/home/jupyter-22cs049\n",
      "/home/jupyter-22cs083\n",
      "/home/jupyter-22cs126\n",
      "/home/jupyter-21cs051\n",
      "/home/jupyter-22cs082\n",
      "/home/jupyter-22cs063\n",
      "/home/jupyter-21cs077\n",
      "/home/jupyter-21cs085\n",
      "/home/jupyter-21cs045\n",
      "/home/jupyter-21cs066\n",
      "/home/jupyter-21cs035\n",
      "/home/jupyter-21cs071\n",
      "/home/jupyter-21cs099\n",
      "/home/jupyter-22cs068\n",
      "/home/jupyter-22cs021\n",
      "/home/jupyter-21cs089\n",
      "/home/jupyter-22cs095\n",
      "/home/jupyter-22cs054\n",
      "/home/jupyter-22cs051\n",
      "/home/jupyter-21cs115\n",
      "/home/jupyter-22cs085\n",
      "/home/jupyter-21cs100\n",
      "/home/jupyter-21cs010\n",
      "/home/jupyter-22cs409\n",
      "/home/jupyter-23cs402\n",
      "/home/jupyter-21cs106\n",
      "/home/jupyter-21cs103\n",
      "/home/jupyter-21cs095\n",
      "/home/jupyter-22cs113\n",
      "/home/jupyter-21cs068\n",
      "/home/jupyter-21cs110\n",
      "/home/jupyter-22cs030\n",
      "/home/jupyter-21cs018\n",
      "/home/jupyter-21cs030\n",
      "/home/jupyter-22cs008\n",
      "/home/jupyter-22cs402\n",
      "/home/jupyter-22cs057\n",
      "/home/jupyter-21cs014\n",
      "/home/jupyter-22cs130\n",
      "/home/jupyter-22cs118\n",
      "/home/jupyter-21cs104\n",
      "/home/jupyter-21cs054\n",
      "/home/jupyter-22cs011\n",
      "/home/jupyter-23cs407\n",
      "/home/jupyter-22cs001\n",
      "/home/jupyter-21cs040\n",
      "/home/jupyter-21cs063\n",
      "/home/jupyter-22cs114\n",
      "/home/jupyter-22cs005\n",
      "/home/jupyter-21cs070\n",
      "/home/jupyter-22cs018\n",
      "/home/jupyter-22cs016\n"
     ]
    }
   ],
   "source": [
    "fpt=Path(\"/home\")\n",
    "for p in fpt.iterdir():\n",
    "    print(p)"
   ]
  },
  {
   "cell_type": "markdown",
   "id": "8a8b5823-10d5-48cc-9cc4-1b31997322f3",
   "metadata": {},
   "source": [
    "<h3>Read content to text file</h3>"
   ]
  },
  {
   "cell_type": "code",
   "execution_count": 63,
   "id": "674dfce4-8f80-4bc6-b176-cb103f8b8386",
   "metadata": {},
   "outputs": [
    {
     "name": "stdout",
     "output_type": "stream",
     "text": [
      "Name:YOGESH\n",
      "USN:2SD22CS131\n",
      "Branch:CSE\n",
      "CGPA:9.25\n"
     ]
    }
   ],
   "source": [
    "with open('resume.txt',mode='r') as file:\n",
    "    for line in file:\n",
    "        print(line,end='')\n",
    "    \n"
   ]
  },
  {
   "cell_type": "markdown",
   "id": "7ef3bbf1-da24-451b-81dc-bbbc087c6795",
   "metadata": {},
   "source": [
    "<h3>Write and append</h3>"
   ]
  },
  {
   "cell_type": "code",
   "execution_count": 69,
   "id": "7de993b6-4441-4080-9219-dd8aa7499702",
   "metadata": {},
   "outputs": [
    {
     "name": "stdout",
     "output_type": "stream",
     "text": [
      "content written succesfully\n"
     ]
    }
   ],
   "source": [
    "with open('resume.txt',mode='w') as file:\n",
    "    file.write(\"Hobbies:EATING,SLEEPING,SEEING MOVIES\")\n",
    "\n",
    "if(file!=\"\"):\n",
    "    print(\"content written succesfully\")\n",
    "    \n",
    "    "
   ]
  },
  {
   "cell_type": "code",
   "execution_count": 78,
   "id": "6c797572-c439-41b5-b883-63a761c47cbc",
   "metadata": {},
   "outputs": [
    {
     "name": "stdout",
     "output_type": "stream",
     "text": [
      "content written succesfully\n"
     ]
    }
   ],
   "source": [
    "statements=[\"cse\\n\",\"ee\\n\"]\n",
    "with open('resume.txt',mode='w') as file:\n",
    "    file.writelines(statements)\n",
    "\n",
    "if(file!=\"\"):\n",
    "    print(\"content written succesfully\")\n",
    "    \n"
   ]
  },
  {
   "cell_type": "code",
   "execution_count": 79,
   "id": "42307ce5-8b35-4edb-8954-8dee3cb26eba",
   "metadata": {},
   "outputs": [
    {
     "name": "stdout",
     "output_type": "stream",
     "text": [
      "content written succesfully\n"
     ]
    }
   ],
   "source": [
    "with open('resume.txt','a') as file:\n",
    "    file.write(\"Hobbies:EATING,SLEEPING,SEEING MOVIES\")\n",
    "\n",
    "if(file!=\"\"):\n",
    "    print(\"content written succesfully\")\n",
    "    "
   ]
  },
  {
   "cell_type": "markdown",
   "id": "54ea6721-dbd5-4f74-bc43-7513b605e7a4",
   "metadata": {},
   "source": [
    "<h2>Write python code to read N natural numbers from the file and find sum of N numbers</h2>"
   ]
  },
  {
   "cell_type": "code",
   "execution_count": 102,
   "id": "356cb2f4-5c32-4a3b-a456-7dbe12f15086",
   "metadata": {},
   "outputs": [
    {
     "name": "stdout",
     "output_type": "stream",
     "text": [
      "11\n"
     ]
    }
   ],
   "source": [
    "str9=\"1253\"\n",
    "sumo=0\n",
    "for i in str9:\n",
    "    sumo=sumo+int(i)\n",
    "print(sumo)    "
   ]
  },
  {
   "cell_type": "code",
   "execution_count": 98,
   "id": "96d97464-1669-4180-bb42-32f585aa2a79",
   "metadata": {},
   "outputs": [
    {
     "name": "stdout",
     "output_type": "stream",
     "text": [
      "33\n"
     ]
    }
   ],
   "source": [
    "with open('numbers.txt','r') as file:\n",
    "    total=0\n",
    "    for line in file:\n",
    "        number=int(line.rstrip())\n",
    "        total+=number\n",
    "\n",
    "print(total)"
   ]
  },
  {
   "cell_type": "code",
   "execution_count": 103,
   "id": "a71a73ab-c0be-4f0b-bd6e-3f5ff180ad1f",
   "metadata": {},
   "outputs": [
    {
     "name": "stdout",
     "output_type": "stream",
     "text": [
      "h\n",
      "e\n",
      "l\n",
      "l\n"
     ]
    }
   ],
   "source": [
    "s=\"hello\"\n",
    "for i in range(0,len(s)-1):\n",
    "    print(s[i])"
   ]
  },
  {
   "cell_type": "code",
   "execution_count": 107,
   "id": "71366225-3288-4e2e-b8be-083c59b92201",
   "metadata": {},
   "outputs": [
    {
     "ename": "ModuleNotFoundError",
     "evalue": "No module named 'finmatch'",
     "output_type": "error",
     "traceback": [
      "\u001b[0;31m---------------------------------------------------------------------------\u001b[0m",
      "\u001b[0;31mModuleNotFoundError\u001b[0m                       Traceback (most recent call last)",
      "Cell \u001b[0;32mIn[107], line 1\u001b[0m\n\u001b[0;32m----> 1\u001b[0m \u001b[38;5;28;01mimport\u001b[39;00m \u001b[38;5;21;01mfinmatch\u001b[39;00m\n\u001b[1;32m      2\u001b[0m \u001b[38;5;28;01mwith\u001b[39;00m \u001b[38;5;28mopen\u001b[39m(\u001b[38;5;124m'\u001b[39m\u001b[38;5;124msearch.txt\u001b[39m\u001b[38;5;124m'\u001b[39m,\u001b[38;5;124m'\u001b[39m\u001b[38;5;124mr\u001b[39m\u001b[38;5;124m'\u001b[39m) \u001b[38;5;28;01mas\u001b[39;00m file:\n\u001b[1;32m      3\u001b[0m     \u001b[38;5;28;01mfor\u001b[39;00m line \u001b[38;5;129;01min\u001b[39;00m file:\n",
      "\u001b[0;31mModuleNotFoundError\u001b[0m: No module named 'finmatch'"
     ]
    }
   ],
   "source": [
    "\n",
    "with open('search.txt','r') as file:\n",
    "    for line in file:\n",
    "        if fnmatch.fnmatch(line.strip(),'SDM*'):\n",
    "            print(line)"
   ]
  },
  {
   "cell_type": "code",
   "execution_count": 110,
   "id": "085e43e2-b678-4185-97b0-1a26a43c9e1f",
   "metadata": {},
   "outputs": [
    {
     "name": "stdout",
     "output_type": "stream",
     "text": [
      "['IA', 'CIE', 'SEE']\n",
      "['20', '30', '65']\n",
      "['15', '45', '75']\n",
      "['12', '20', '80']\n"
     ]
    }
   ],
   "source": [
    "import csv\n",
    "with open('Mydata.csv',mode='r',encoding='utf-8') as file:\n",
    "    reader=csv.reader(file)\n",
    "    for row in reader:\n",
    "        print(row)"
   ]
  },
  {
   "cell_type": "code",
   "execution_count": 2,
   "id": "12c7c1a2-e973-4bdb-8c7a-d6c603f560ef",
   "metadata": {},
   "outputs": [
    {
     "data": {
      "text/plain": [
       "True"
      ]
     },
     "execution_count": 2,
     "metadata": {},
     "output_type": "execute_result"
    }
   ],
   "source": [
    "from pathlib import Path\n",
    "ffp=Path(\"studentdetails.csv\")\n",
    "ffp.touch()\n",
    "ffp.exists()"
   ]
  },
  {
   "cell_type": "code",
   "execution_count": null,
   "id": "2937aeff-c73e-4aec-88b6-8d87802d81b3",
   "metadata": {},
   "outputs": [],
   "source": []
  }
 ],
 "metadata": {
  "kernelspec": {
   "display_name": "Python 3 (ipykernel)",
   "language": "python",
   "name": "python3"
  },
  "language_info": {
   "codemirror_mode": {
    "name": "ipython",
    "version": 3
   },
   "file_extension": ".py",
   "mimetype": "text/x-python",
   "name": "python",
   "nbconvert_exporter": "python",
   "pygments_lexer": "ipython3",
   "version": "3.10.10"
  }
 },
 "nbformat": 4,
 "nbformat_minor": 5
}
